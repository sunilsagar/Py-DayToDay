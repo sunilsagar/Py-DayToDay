{
 "cells": [
  {
   "cell_type": "markdown",
   "metadata": {},
   "source": [
    "# IMP: STEPS to be followed \n",
    "\n",
    "https://github.com/ndas1971/ScalaQs/blob/master/winutils.exe\n",
    "\n",
    "delete in windows file exploler d:\\tmp\n",
    "\n",
    "mkdir d:\\tmp\n",
    "\n",
    "cd d:\\tmp\n",
    "\n",
    "mkdir hive\n",
    "\n",
    "winutils.exe chmod -R 777 D:/tmp\n",
    "\n",
    "\n",
    "Then Use commandline\n",
    "\n",
    "d:>handson\\pyspark"
   ]
  },
  {
   "cell_type": "code",
   "execution_count": 3,
   "metadata": {},
   "outputs": [
    {
     "data": {
      "text/html": [
       "\n",
       "            <div>\n",
       "                <p><b>SparkSession - hive</b></p>\n",
       "                \n",
       "        <div>\n",
       "            <p><b>SparkContext</b></p>\n",
       "\n",
       "            <p><a href=\"http://Home-E402:4040\">Spark UI</a></p>\n",
       "\n",
       "            <dl>\n",
       "              <dt>Version</dt>\n",
       "                <dd><code>v2.4.4</code></dd>\n",
       "              <dt>Master</dt>\n",
       "                <dd><code>local[*]</code></dd>\n",
       "              <dt>AppName</dt>\n",
       "                <dd><code>pyspark-shell</code></dd>\n",
       "            </dl>\n",
       "        </div>\n",
       "        \n",
       "            </div>\n",
       "        "
      ],
      "text/plain": [
       "<pyspark.sql.session.SparkSession at 0x5b4a0c7748>"
      ]
     },
     "execution_count": 3,
     "metadata": {},
     "output_type": "execute_result"
    }
   ],
   "source": [
    "spark"
   ]
  },
  {
   "cell_type": "code",
   "execution_count": 2,
   "metadata": {},
   "outputs": [
    {
     "data": {
      "text/plain": [
       "[('spark.driver.port', '15042'),\n",
       " ('spark.sql.catalogImplementation', 'hive'),\n",
       " ('spark.rdd.compress', 'True'),\n",
       " ('spark.serializer.objectStreamReset', '100'),\n",
       " ('spark.master', 'local[*]'),\n",
       " ('spark.executor.id', 'driver'),\n",
       " ('spark.submit.deployMode', 'client'),\n",
       " ('spark.driver.host', 'Home-E402'),\n",
       " ('spark.app.id', 'local-1600766044966'),\n",
       " ('spark.ui.showConsoleProgress', 'true'),\n",
       " ('spark.app.name', 'pyspark-shell')]"
      ]
     },
     "execution_count": 2,
     "metadata": {},
     "output_type": "execute_result"
    }
   ],
   "source": [
    "spark.sparkContext.getConf().getAll()"
   ]
  },
  {
   "cell_type": "code",
   "execution_count": 4,
   "metadata": {},
   "outputs": [],
   "source": [
    "from pyspark.sql import *\n",
    "import pyspark.sql.functions as F\n",
    "\n",
    "file = 'data/spark/Cartier+for+WinnersCurse.csv'\n",
    "acs = spark.read.format('csv').option('header', 'true')\\\n",
    "        .option('inferSchema', 'true').load(file)\n",
    "\n",
    "acs.show()\n",
    "print(len(dir(acs)), len(dir(F)), len(dir(F.col(\"bidder\"))))"
   ]
  },
  {
   "cell_type": "code",
   "execution_count": 10,
   "metadata": {},
   "outputs": [
    {
     "name": "stdout",
     "output_type": "stream",
     "text": [
      "root\n",
      " |-- auctionid: integer (nullable = true)\n",
      " |-- bid: double (nullable = true)\n",
      " |-- bidtime: double (nullable = true)\n",
      " |-- bidder: string (nullable = true)\n",
      " |-- bidderrate: integer (nullable = true)\n",
      " |-- openbid: double (nullable = true)\n",
      " |-- price: double (nullable = true)\n",
      "\n"
     ]
    }
   ],
   "source": [
    "#basic \n",
    "acs.columns\n",
    "acs.dtypes\n",
    "acs.printSchema()"
   ]
  },
  {
   "cell_type": "code",
   "execution_count": 15,
   "metadata": {},
   "outputs": [
    {
     "name": "stdout",
     "output_type": "stream",
     "text": [
      "+----------+------+-----------+--------------------+----------+-------+------+\n",
      "| auctionid|   bid|    bidtime|              bidder|bidderrate|openbid| price|\n",
      "+----------+------+-----------+--------------------+----------+-------+------+\n",
      "|1638843936| 500.0|0.478368056|           kona-java|       181|  500.0|1625.0|\n",
      "|1638843936| 800.0|0.826388889|              doc213|        60|  500.0|1625.0|\n",
      "|1638843936|1500.0|5.226377315|         carloss8055|         5|  500.0|1625.0|\n",
      "|1638843936|1550.0|6.892916667|         carloss8055|         5|  500.0|1625.0|\n",
      "|1638843936|1625.0|6.893113426|         carloss8055|         5|  500.0|1625.0|\n",
      "|1638844284| 225.0|1.237418982|   dre_313@yahoo.com|         0|  200.0| 500.0|\n",
      "|1638844284| 500.0|1.252407407|           njbirdmom|        33|  200.0| 500.0|\n",
      "|1638844464| 305.0|3.212673611|           19750926o|         3|  300.0| 740.0|\n",
      "|1638844464| 450.0|4.165798611|            coharley|        30|  300.0| 740.0|\n",
      "|1638844464|505.78|6.988194444|           19750926o|         3|  300.0| 740.0|\n",
      "|1638844464| 551.0|6.989652778|           19750926o|         3|  300.0| 740.0|\n",
      "|1638844464| 570.0|6.993148148|           19750926o|         3|  300.0| 740.0|\n",
      "|1638844464| 601.0|6.993900463|           19750926o|         3|  300.0| 740.0|\n",
      "|1638844464| 610.0|6.994965278|           19750926o|         3|  300.0| 740.0|\n",
      "|1638844729| 225.0|6.121782407|k.s.cohen@verizon...|        18|  225.0| 320.0|\n",
      "|1638844729| 250.0|6.970092593|k.s.cohen@verizon...|        18|  225.0| 320.0|\n",
      "|1638844729| 260.0|6.970740741|k.s.cohen@verizon...|        18|  225.0| 320.0|\n",
      "|1638844729| 270.0|6.970914352|k.s.cohen@verizon...|        18|  225.0| 320.0|\n",
      "|1638844729| 280.0|6.971087963|k.s.cohen@verizon...|        18|  225.0| 320.0|\n",
      "|1638844729| 290.0|6.971203704|k.s.cohen@verizon...|        18|  225.0| 320.0|\n",
      "+----------+------+-----------+--------------------+----------+-------+------+\n",
      "only showing top 20 rows\n",
      "\n",
      "+----------+------+-----------+--------------------+----------+-------+------+\n",
      "| auctionid|   bid|    bidtime|              bidder|bidderrate|openbid| price|\n",
      "+----------+------+-----------+--------------------+----------+-------+------+\n",
      "|1638843936| 500.0|0.478368056|           kona-java|       181|  500.0|1625.0|\n",
      "|1638843936| 800.0|0.826388889|              doc213|        60|  500.0|1625.0|\n",
      "|1638843936|1500.0|5.226377315|         carloss8055|         5|  500.0|1625.0|\n",
      "|1638843936|1550.0|6.892916667|         carloss8055|         5|  500.0|1625.0|\n",
      "|1638843936|1625.0|6.893113426|         carloss8055|         5|  500.0|1625.0|\n",
      "|1638844284| 225.0|1.237418982|   dre_313@yahoo.com|         0|  200.0| 500.0|\n",
      "|1638844284| 500.0|1.252407407|           njbirdmom|        33|  200.0| 500.0|\n",
      "|1638844464| 305.0|3.212673611|           19750926o|         3|  300.0| 740.0|\n",
      "|1638844464| 450.0|4.165798611|            coharley|        30|  300.0| 740.0|\n",
      "|1638844464|505.78|6.988194444|           19750926o|         3|  300.0| 740.0|\n",
      "|1638844464| 551.0|6.989652778|           19750926o|         3|  300.0| 740.0|\n",
      "|1638844464| 570.0|6.993148148|           19750926o|         3|  300.0| 740.0|\n",
      "|1638844464| 601.0|6.993900463|           19750926o|         3|  300.0| 740.0|\n",
      "|1638844464| 610.0|6.994965278|           19750926o|         3|  300.0| 740.0|\n",
      "|1638844729| 225.0|6.121782407|k.s.cohen@verizon...|        18|  225.0| 320.0|\n",
      "|1638844729| 250.0|6.970092593|k.s.cohen@verizon...|        18|  225.0| 320.0|\n",
      "|1638844729| 260.0|6.970740741|k.s.cohen@verizon...|        18|  225.0| 320.0|\n",
      "|1638844729| 270.0|6.970914352|k.s.cohen@verizon...|        18|  225.0| 320.0|\n",
      "|1638844729| 280.0|6.971087963|k.s.cohen@verizon...|        18|  225.0| 320.0|\n",
      "|1638844729| 290.0|6.971203704|k.s.cohen@verizon...|        18|  225.0| 320.0|\n",
      "+----------+------+-----------+--------------------+----------+-------+------+\n",
      "only showing top 20 rows\n",
      "\n"
     ]
    }
   ],
   "source": [
    "#filter based whether bidder contains 'o'\n",
    "acs.filter(F.col(\"bidder\").contains('o')).show()\n",
    "#OR \n",
    "acs.filter(acs.bidder.contains('o')).show()"
   ]
  },
  {
   "cell_type": "code",
   "execution_count": null,
   "metadata": {},
   "outputs": [],
   "source": []
  }
 ],
 "metadata": {
  "kernelspec": {
   "display_name": "PySparkAuto",
   "language": "python",
   "name": "pysparkauto"
  },
  "language_info": {
   "codemirror_mode": {
    "name": "ipython",
    "version": 3
   },
   "file_extension": ".py",
   "mimetype": "text/x-python",
   "name": "python",
   "nbconvert_exporter": "python",
   "pygments_lexer": "ipython3",
   "version": "3.7.9"
  }
 },
 "nbformat": 4,
 "nbformat_minor": 4
}

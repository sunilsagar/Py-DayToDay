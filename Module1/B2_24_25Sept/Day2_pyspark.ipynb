{
 "cells": [
  {
   "cell_type": "code",
   "execution_count": 1,
   "metadata": {},
   "outputs": [
    {
     "name": "stdout",
     "output_type": "stream",
     "text": [
      "Available kernels:\n",
      "  pyspark        C:\\Anaconda3\\envs\\aiml\\share\\jupyter\\kernels\\PySpark\n",
      "  pysparkauto    C:\\Anaconda3\\envs\\aiml\\share\\jupyter\\kernels\\PySparkAuto\n",
      "  python3        C:\\Anaconda3\\envs\\aiml\\share\\jupyter\\kernels\\python3\n"
     ]
    }
   ],
   "source": [
    "!jupyter kernelspec list"
   ]
  },
  {
   "cell_type": "code",
   "execution_count": 3,
   "metadata": {},
   "outputs": [],
   "source": [
    "%pycat C:\\Anaconda3\\envs\\aiml\\share\\jupyter\\kernels\\PySpark\\kernel.json\n",
    "    "
   ]
  },
  {
   "cell_type": "code",
   "execution_count": 4,
   "metadata": {},
   "outputs": [],
   "source": [
    "from pyspark.sql import *\n",
    "import pyspark.sql.functions as F \n"
   ]
  },
  {
   "cell_type": "code",
   "execution_count": 5,
   "metadata": {},
   "outputs": [],
   "source": [
    "spark = SparkSession.builder.appName(\"basic\").getOrCreate()"
   ]
  },
  {
   "cell_type": "code",
   "execution_count": 6,
   "metadata": {},
   "outputs": [
    {
     "data": {
      "text/html": [
       "\n",
       "            <div>\n",
       "                <p><b>SparkSession - in-memory</b></p>\n",
       "                \n",
       "        <div>\n",
       "            <p><b>SparkContext</b></p>\n",
       "\n",
       "            <p><a href=\"http://Home-E402:4040\">Spark UI</a></p>\n",
       "\n",
       "            <dl>\n",
       "              <dt>Version</dt>\n",
       "                <dd><code>v2.4.4</code></dd>\n",
       "              <dt>Master</dt>\n",
       "                <dd><code>local[*]</code></dd>\n",
       "              <dt>AppName</dt>\n",
       "                <dd><code>basic</code></dd>\n",
       "            </dl>\n",
       "        </div>\n",
       "        \n",
       "            </div>\n",
       "        "
      ],
      "text/plain": [
       "<pyspark.sql.session.SparkSession at 0x7f12643408>"
      ]
     },
     "execution_count": 6,
     "metadata": {},
     "output_type": "execute_result"
    }
   ],
   "source": [
    "spark"
   ]
  },
  {
   "cell_type": "code",
   "execution_count": 11,
   "metadata": {},
   "outputs": [],
   "source": [
    "len(dir(DataFrame)), len(dir(Column)), len(dir(F))\n",
    "file = 'data/spark/Cartier+for+WinnersCurse.csv'\n",
    "sdf = spark.read.format('csv').option(\"header\", \"true\")\\\n",
    "                .option(\"inferSchema\", \"true\").load(file)\n",
    "sdf.show()"
   ]
  },
  {
   "cell_type": "code",
   "execution_count": 15,
   "metadata": {},
   "outputs": [
    {
     "data": {
      "text/plain": [
       "1"
      ]
     },
     "execution_count": 15,
     "metadata": {},
     "output_type": "execute_result"
    }
   ],
   "source": [
    "sdf.count()\n",
    "sdf.rdd.getNumPartitions()\n",
    "\n",
    "#ops\n",
    "sdf.columns\n",
    "sdf.dtypes\n",
    "sdf.printSchema()"
   ]
  },
  {
   "cell_type": "code",
   "execution_count": 24,
   "metadata": {},
   "outputs": [
    {
     "name": "stdout",
     "output_type": "stream",
     "text": [
      "+----------+------+-----------+-----------+----------+-------+-------+\n",
      "| auctionid|   bid|    bidtime|     bidder|bidderrate|openbid|  price|\n",
      "+----------+------+-----------+-----------+----------+-------+-------+\n",
      "|1638843936|1500.0|5.226377315|carloss8055|         5|  500.0| 1625.0|\n",
      "|1638843936|1550.0|6.892916667|carloss8055|         5|  500.0| 1625.0|\n",
      "|1638843936|1625.0|6.893113426|carloss8055|         5|  500.0| 1625.0|\n",
      "|1638844464| 450.0|6.736319444|  adammurry|         5|  300.0|  740.0|\n",
      "|1638844464| 500.0|6.736469907|  adammurry|         5|  300.0|  740.0|\n",
      "|1638844464| 700.0|6.995763889|  adammurry|         5|  300.0|  740.0|\n",
      "|1638844464| 740.0| 6.99974537|  adammurry|         5|  300.0|  740.0|\n",
      "|1640550476| 260.0|6.917569444|carloss8055|         5|    1.0|  300.0|\n",
      "|1640550476| 280.0|6.980590278|carloss8055|         5|    1.0|  300.0|\n",
      "|1641628327|1650.0|6.951226852|carloss8055|         5|  500.0|1894.78|\n",
      "|1641628327|1700.0| 6.95150463|carloss8055|         5|  500.0|1894.78|\n",
      "|1641628327|1800.0|6.951759259|carloss8055|         5|  500.0|1894.78|\n",
      "|1641628327|1850.0|   6.959375|carloss8055|         5|  500.0|1894.78|\n",
      "|1643244227| 750.0|3.544513889|  adammurry|         5|  499.0| 1025.0|\n",
      "|1643244227| 821.0|4.662476852|  adammurry|         5|  499.0| 1025.0|\n",
      "|1643244227| 850.0|4.662719907|  adammurry|         5|  499.0| 1025.0|\n",
      "|1643244227|1025.0|6.989085648|  adammurry|         5|  499.0| 1025.0|\n",
      "|1644049270| 750.0|2.256643519|  adammurry|         5|   0.01| 1600.0|\n",
      "|1644049270| 850.0|2.256782407|  adammurry|         5|   0.01| 1600.0|\n",
      "|1644049270|1580.0| 6.93912037|  adammurry|         5|   0.01| 1600.0|\n",
      "+----------+------+-----------+-----------+----------+-------+-------+\n",
      "only showing top 20 rows\n",
      "\n"
     ]
    }
   ],
   "source": [
    "#filter\n",
    "sdf.filter(\"bidderrate == 5\")   #.show()\n",
    "#or\n",
    "sdf.filter(sdf.bidderrate == 5) #.show()\n",
    "#or \n",
    "sdf.filter(sdf['bidderrate'] == 5) #.show()\n",
    "#or \n",
    "sdf.filter(F.col('bidderrate') == 5)  #.show()  #This version\n",
    "\n",
    "#display rows where bidder is \"adammurry\" or carloss8055\n",
    "sdf.filter(F.col('bidder').isin(\"adammurry\" , 'carloss8055') ).show()"
   ]
  },
  {
   "cell_type": "code",
   "execution_count": 29,
   "metadata": {},
   "outputs": [
    {
     "data": {
      "text/plain": [
       "97"
      ]
     },
     "execution_count": 29,
     "metadata": {},
     "output_type": "execute_result"
    }
   ],
   "source": [
    "#Select - Transformations vs actions\n",
    "sdf.select(\"auctionid\")\\\n",
    "    .distinct()\\\n",
    "    .count()"
   ]
  },
  {
   "cell_type": "code",
   "execution_count": 32,
   "metadata": {},
   "outputs": [
    {
     "name": "stdout",
     "output_type": "stream",
     "text": [
      "== Parsed Logical Plan ==\n",
      "Deduplicate [auctionid#10]\n",
      "+- Project [auctionid#10]\n",
      "   +- Relation[auctionid#10,bid#11,bidtime#12,bidder#13,bidderrate#14,openbid#15,price#16] csv\n",
      "\n",
      "== Analyzed Logical Plan ==\n",
      "auctionid: int\n",
      "Deduplicate [auctionid#10]\n",
      "+- Project [auctionid#10]\n",
      "   +- Relation[auctionid#10,bid#11,bidtime#12,bidder#13,bidderrate#14,openbid#15,price#16] csv\n",
      "\n",
      "== Optimized Logical Plan ==\n",
      "Aggregate [auctionid#10], [auctionid#10]\n",
      "+- Project [auctionid#10]\n",
      "   +- Relation[auctionid#10,bid#11,bidtime#12,bidder#13,bidderrate#14,openbid#15,price#16] csv\n",
      "\n",
      "== Physical Plan ==\n",
      "*(2) HashAggregate(keys=[auctionid#10], functions=[], output=[auctionid#10])\n",
      "+- Exchange hashpartitioning(auctionid#10, 200)\n",
      "   +- *(1) HashAggregate(keys=[auctionid#10], functions=[], output=[auctionid#10])\n",
      "      +- *(1) FileScan csv [auctionid#10] Batched: false, Format: CSV, Location: InMemoryFileIndex[file:/D:/handson/Module1/B2_24_25Sept/data/spark/Cartier+for+WinnersCurse.csv], PartitionFilters: [], PushedFilters: [], ReadSchema: struct<auctionid:int>\n"
     ]
    }
   ],
   "source": [
    "sdf.select(\"auctionid\")\\\n",
    "    .distinct().explain(extended=True)"
   ]
  },
  {
   "cell_type": "code",
   "execution_count": 36,
   "metadata": {},
   "outputs": [
    {
     "name": "stdout",
     "output_type": "stream",
     "text": [
      "+--------+-------------+\n",
      "|max(bid)|count(bidder)|\n",
      "+--------+-------------+\n",
      "|  5400.0|         1348|\n",
      "+--------+-------------+\n",
      "\n",
      "+----------+------------------+---+\n",
      "| auctionid|              bids| cb|\n",
      "+----------+------------------+---+\n",
      "|1642005995|           6750.58| 18|\n",
      "|1647320738|           4330.87| 12|\n",
      "|1647567213|            3025.0|  2|\n",
      "|1643201832|            5098.0|  4|\n",
      "|1644724061|           3265.01| 14|\n",
      "|1641242797|           1683.99|  5|\n",
      "|1649173313|1512.8700000000001|  5|\n",
      "|1650530689|           13850.0|  6|\n",
      "|1642875447|            9054.0| 12|\n",
      "|1648041601|            1518.0|  5|\n",
      "|1648193761|           1231.49|  9|\n",
      "|1649848613|            9499.0| 20|\n",
      "|1650981438|            1126.0|  3|\n",
      "|1645594382|            1363.5| 10|\n",
      "|1640793161|           13061.5| 14|\n",
      "|1650515990|            3700.0|  6|\n",
      "|1649639405|           28839.0| 23|\n",
      "|1649858595|            1062.5|  7|\n",
      "|1644343468|            9245.1| 19|\n",
      "|1640179146|           6666.94| 22|\n",
      "+----------+------------------+---+\n",
      "only showing top 20 rows\n",
      "\n"
     ]
    }
   ],
   "source": [
    "#creation of new column\n",
    "df3 = sdf.withColumn(\"new_price\", F.col(\"price\") * 2)\n",
    "#full table aggregation\n",
    "sdf.agg(F.max(\"bid\"), F.count(\"bidder\")).show()\n",
    "#per some column eg auctionid \n",
    "sdf.groupBy('auctionid').agg(F.sum('bid').alias(\"bids\"), F.count('bidder').alias('cb'))\\\n",
    "   .select(\"auctionid\",'bids', 'cb').show()"
   ]
  },
  {
   "cell_type": "code",
   "execution_count": 40,
   "metadata": {},
   "outputs": [
    {
     "name": "stdout",
     "output_type": "stream",
     "text": [
      "+-------+-----------------+\n",
      "|summary|            price|\n",
      "+-------+-----------------+\n",
      "|  count|             1348|\n",
      "|   mean|961.3078189910945|\n",
      "| stddev|812.4058446991884|\n",
      "|    min|            103.5|\n",
      "|    25%|            355.0|\n",
      "|    50%|           623.26|\n",
      "|    75%|          1524.99|\n",
      "|    max|           5400.0|\n",
      "+-------+-----------------+\n",
      "\n"
     ]
    },
    {
     "ename": "AttributeError",
     "evalue": "'DataFrame' object has no attribute 'stats'",
     "output_type": "error",
     "traceback": [
      "\u001b[1;31m---------------------------------------------------------------------------\u001b[0m",
      "\u001b[1;31mAttributeError\u001b[0m                            Traceback (most recent call last)",
      "\u001b[1;32m<ipython-input-40-3ad3d8116928>\u001b[0m in \u001b[0;36m<module>\u001b[1;34m\u001b[0m\n\u001b[0;32m      2\u001b[0m \u001b[0msdf\u001b[0m\u001b[1;33m.\u001b[0m\u001b[0msummary\u001b[0m\u001b[1;33m(\u001b[0m\u001b[1;33m)\u001b[0m\u001b[1;33m.\u001b[0m\u001b[0mselect\u001b[0m\u001b[1;33m(\u001b[0m\u001b[1;34m'summary'\u001b[0m\u001b[1;33m,\u001b[0m \u001b[1;34m'price'\u001b[0m\u001b[1;33m)\u001b[0m\u001b[1;33m.\u001b[0m\u001b[0mshow\u001b[0m\u001b[1;33m(\u001b[0m\u001b[1;33m)\u001b[0m\u001b[1;33m\u001b[0m\u001b[1;33m\u001b[0m\u001b[0m\n\u001b[0;32m      3\u001b[0m \u001b[1;31m#crosstab\u001b[0m\u001b[1;33m\u001b[0m\u001b[1;33m\u001b[0m\u001b[1;33m\u001b[0m\u001b[0m\n\u001b[1;32m----> 4\u001b[1;33m \u001b[0msdf\u001b[0m\u001b[1;33m.\u001b[0m\u001b[0mstats\u001b[0m\u001b[1;33m.\u001b[0m\u001b[0mcrosstab\u001b[0m\u001b[1;33m(\u001b[0m\u001b[1;34m\"bidder\"\u001b[0m\u001b[1;33m,\u001b[0m \u001b[1;34m\"auctionid\"\u001b[0m\u001b[1;33m)\u001b[0m\u001b[1;33m.\u001b[0m\u001b[0mshow\u001b[0m\u001b[1;33m(\u001b[0m\u001b[1;33m)\u001b[0m\u001b[1;33m\u001b[0m\u001b[1;33m\u001b[0m\u001b[0m\n\u001b[0m",
      "\u001b[1;32mC:\\spark\\python\\pyspark\\sql\\dataframe.py\u001b[0m in \u001b[0;36m__getattr__\u001b[1;34m(self, name)\u001b[0m\n\u001b[0;32m   1299\u001b[0m         \u001b[1;32mif\u001b[0m \u001b[0mname\u001b[0m \u001b[1;32mnot\u001b[0m \u001b[1;32min\u001b[0m \u001b[0mself\u001b[0m\u001b[1;33m.\u001b[0m\u001b[0mcolumns\u001b[0m\u001b[1;33m:\u001b[0m\u001b[1;33m\u001b[0m\u001b[1;33m\u001b[0m\u001b[0m\n\u001b[0;32m   1300\u001b[0m             raise AttributeError(\n\u001b[1;32m-> 1301\u001b[1;33m                 \"'%s' object has no attribute '%s'\" % (self.__class__.__name__, name))\n\u001b[0m\u001b[0;32m   1302\u001b[0m         \u001b[0mjc\u001b[0m \u001b[1;33m=\u001b[0m \u001b[0mself\u001b[0m\u001b[1;33m.\u001b[0m\u001b[0m_jdf\u001b[0m\u001b[1;33m.\u001b[0m\u001b[0mapply\u001b[0m\u001b[1;33m(\u001b[0m\u001b[0mname\u001b[0m\u001b[1;33m)\u001b[0m\u001b[1;33m\u001b[0m\u001b[1;33m\u001b[0m\u001b[0m\n\u001b[0;32m   1303\u001b[0m         \u001b[1;32mreturn\u001b[0m \u001b[0mColumn\u001b[0m\u001b[1;33m(\u001b[0m\u001b[0mjc\u001b[0m\u001b[1;33m)\u001b[0m\u001b[1;33m\u001b[0m\u001b[1;33m\u001b[0m\u001b[0m\n",
      "\u001b[1;31mAttributeError\u001b[0m: 'DataFrame' object has no attribute 'stats'"
     ]
    }
   ],
   "source": [
    "#stats \n",
    "sdf.summary().select('summary', 'price').show()\n",
    "#crosstab\n",
    "sdf.stat.crosstab(\"bidder\", \"auctionid\").show()"
   ]
  },
  {
   "cell_type": "code",
   "execution_count": null,
   "metadata": {},
   "outputs": [],
   "source": []
  }
 ],
 "metadata": {
  "kernelspec": {
   "display_name": "PySpark",
   "language": "python",
   "name": "pyspark"
  },
  "language_info": {
   "codemirror_mode": {
    "name": "ipython",
    "version": 3
   },
   "file_extension": ".py",
   "mimetype": "text/x-python",
   "name": "python",
   "nbconvert_exporter": "python",
   "pygments_lexer": "ipython3",
   "version": "3.7.9"
  }
 },
 "nbformat": 4,
 "nbformat_minor": 4
}

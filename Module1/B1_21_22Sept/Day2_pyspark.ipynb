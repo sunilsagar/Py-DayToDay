{
 "cells": [
  {
   "cell_type": "markdown",
   "metadata": {},
   "source": [
    "# IMP: STEPS to be followed \n",
    "\n",
    "https://github.com/ndas1971/ScalaQs/blob/master/winutils.exe\n",
    "\n",
    "delete in windows file exploler d:\\tmp\n",
    "\n",
    "mkdir d:\\tmp\n",
    "\n",
    "cd d:\\tmp\n",
    "\n",
    "mkdir hive\n",
    "\n",
    "winutils.exe chmod -R 777 D:/tmp\n",
    "\n",
    "\n",
    "Then Use commandline\n",
    "\n",
    "d:>handson\\pyspark"
   ]
  },
  {
   "cell_type": "code",
   "execution_count": 3,
   "metadata": {},
   "outputs": [
    {
     "data": {
      "text/html": [
       "\n",
       "            <div>\n",
       "                <p><b>SparkSession - hive</b></p>\n",
       "                \n",
       "        <div>\n",
       "            <p><b>SparkContext</b></p>\n",
       "\n",
       "            <p><a href=\"http://Home-E402:4040\">Spark UI</a></p>\n",
       "\n",
       "            <dl>\n",
       "              <dt>Version</dt>\n",
       "                <dd><code>v2.4.4</code></dd>\n",
       "              <dt>Master</dt>\n",
       "                <dd><code>local[*]</code></dd>\n",
       "              <dt>AppName</dt>\n",
       "                <dd><code>pyspark-shell</code></dd>\n",
       "            </dl>\n",
       "        </div>\n",
       "        \n",
       "            </div>\n",
       "        "
      ],
      "text/plain": [
       "<pyspark.sql.session.SparkSession at 0x5b4a0c7748>"
      ]
     },
     "execution_count": 3,
     "metadata": {},
     "output_type": "execute_result"
    }
   ],
   "source": [
    "spark"
   ]
  },
  {
   "cell_type": "code",
   "execution_count": 2,
   "metadata": {},
   "outputs": [
    {
     "data": {
      "text/plain": [
       "[('spark.driver.port', '15042'),\n",
       " ('spark.sql.catalogImplementation', 'hive'),\n",
       " ('spark.rdd.compress', 'True'),\n",
       " ('spark.serializer.objectStreamReset', '100'),\n",
       " ('spark.master', 'local[*]'),\n",
       " ('spark.executor.id', 'driver'),\n",
       " ('spark.submit.deployMode', 'client'),\n",
       " ('spark.driver.host', 'Home-E402'),\n",
       " ('spark.app.id', 'local-1600766044966'),\n",
       " ('spark.ui.showConsoleProgress', 'true'),\n",
       " ('spark.app.name', 'pyspark-shell')]"
      ]
     },
     "execution_count": 2,
     "metadata": {},
     "output_type": "execute_result"
    }
   ],
   "source": [
    "spark.sparkContext.getConf().getAll()"
   ]
  },
  {
   "cell_type": "code",
   "execution_count": 4,
   "metadata": {},
   "outputs": [],
   "source": [
    "from pyspark.sql import *\n",
    "import pyspark.sql.functions as F\n",
    "\n",
    "file = 'data/spark/Cartier+for+WinnersCurse.csv'\n",
    "acs = spark.read.format('csv').option('header', 'true')\\\n",
    "        .option('inferSchema', 'true').load(file)\n",
    "\n",
    "acs.show()\n",
    "print(len(dir(acs)), len(dir(F)), len(dir(F.col(\"bidder\"))))"
   ]
  },
  {
   "cell_type": "code",
   "execution_count": 10,
   "metadata": {},
   "outputs": [
    {
     "name": "stdout",
     "output_type": "stream",
     "text": [
      "root\n",
      " |-- auctionid: integer (nullable = true)\n",
      " |-- bid: double (nullable = true)\n",
      " |-- bidtime: double (nullable = true)\n",
      " |-- bidder: string (nullable = true)\n",
      " |-- bidderrate: integer (nullable = true)\n",
      " |-- openbid: double (nullable = true)\n",
      " |-- price: double (nullable = true)\n",
      "\n"
     ]
    }
   ],
   "source": [
    "#basic \n",
    "acs.columns\n",
    "acs.dtypes\n",
    "acs.printSchema()"
   ]
  },
  {
   "cell_type": "code",
   "execution_count": 19,
   "metadata": {},
   "outputs": [
    {
     "name": "stdout",
     "output_type": "stream",
     "text": [
      "+----------+--------------------+\n",
      "| auctionid|              bidder|\n",
      "+----------+--------------------+\n",
      "|1638843936|           kona-java|\n",
      "|1638843936|              doc213|\n",
      "|1638843936|         carloss8055|\n",
      "|1638843936|         carloss8055|\n",
      "|1638843936|         carloss8055|\n",
      "|1638844284|   dre_313@yahoo.com|\n",
      "|1638844284|           njbirdmom|\n",
      "|1638844464|           19750926o|\n",
      "|1638844464|            coharley|\n",
      "|1638844464|           19750926o|\n",
      "|1638844464|           19750926o|\n",
      "|1638844464|           19750926o|\n",
      "|1638844464|           19750926o|\n",
      "|1638844464|           19750926o|\n",
      "|1638844729|k.s.cohen@verizon...|\n",
      "|1638844729|k.s.cohen@verizon...|\n",
      "|1638844729|k.s.cohen@verizon...|\n",
      "|1638844729|k.s.cohen@verizon...|\n",
      "|1638844729|k.s.cohen@verizon...|\n",
      "|1638844729|k.s.cohen@verizon...|\n",
      "+----------+--------------------+\n",
      "only showing top 20 rows\n",
      "\n"
     ]
    }
   ],
   "source": [
    "#Note .show() or .collect() is must to either display or collect the data in driver\n",
    "#filter based whether bidder contains 'o'\n",
    "acs.filter(F.col(\"bidder\").contains('o'))\n",
    "#OR \n",
    "acs.filter(acs.bidder.contains('o'))\n",
    "#OR\n",
    "acs.filter(acs['bidder'].contains('o'))\n",
    "\n",
    "#Select few columns \n",
    "acs.filter(acs['bidder'].contains('o'))\\\n",
    "   .select(\"auctionid\", \"bidder\").show()"
   ]
  },
  {
   "cell_type": "code",
   "execution_count": 26,
   "metadata": {},
   "outputs": [
    {
     "name": "stdout",
     "output_type": "stream",
     "text": [
      "+----------+-------+---+\n",
      "| auctionid|     mb| cb|\n",
      "+----------+-------+---+\n",
      "|1642005995| 623.26| 18|\n",
      "|1647320738| 452.87| 12|\n",
      "|1647567213| 1525.0|  2|\n",
      "|1643201832| 1599.0|  4|\n",
      "|1644724061|  305.0| 14|\n",
      "|1641242797|  450.0|  5|\n",
      "|1649173313| 349.99|  5|\n",
      "|1650530689| 3050.0|  6|\n",
      "|1642875447|  831.0| 12|\n",
      "|1648041601|  335.0|  5|\n",
      "|1648193761|  179.5|  9|\n",
      "|1649848613| 1100.0| 20|\n",
      "|1650981438|  380.0|  3|\n",
      "|1645594382|  500.0| 10|\n",
      "|1640793161| 2395.0| 14|\n",
      "|1650515990|  850.0|  6|\n",
      "|1649639405| 1880.0| 23|\n",
      "|1649858595|  202.5|  7|\n",
      "|1644343468|1038.99| 19|\n",
      "|1640179146|  455.0| 22|\n",
      "+----------+-------+---+\n",
      "only showing top 20 rows\n",
      "\n"
     ]
    }
   ],
   "source": [
    "acs.select(\"auctionid\", 'bid').where(\"bid >= 1000\")\n",
    "#Create a new column \n",
    "df3 = acs.withColumn(\"new_price\", F.col(\"price\")* 2)\n",
    "#df3.show()\n",
    "\n",
    "#aggregations for full table\n",
    "#acs.agg(F.max('bid'), F.count('bidder')).show()\n",
    "#per auctionId \n",
    "acs.groupBy('auctionid').agg(F.max('bid').alias(\"mb\"), F.count('bidder').alias(\"cb\"))\\\n",
    "                    .select(\"auctionid\", \"mb\", \"cb\").show()"
   ]
  },
  {
   "cell_type": "code",
   "execution_count": null,
   "metadata": {},
   "outputs": [],
   "source": []
  }
 ],
 "metadata": {
  "kernelspec": {
   "display_name": "PySparkAuto",
   "language": "python",
   "name": "pysparkauto"
  },
  "language_info": {
   "codemirror_mode": {
    "name": "ipython",
    "version": 3
   },
   "file_extension": ".py",
   "mimetype": "text/x-python",
   "name": "python",
   "nbconvert_exporter": "python",
   "pygments_lexer": "ipython3",
   "version": "3.7.9"
  }
 },
 "nbformat": 4,
 "nbformat_minor": 4
}

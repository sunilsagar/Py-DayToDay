{
 "cells": [
  {
   "cell_type": "code",
   "execution_count": 9,
   "metadata": {},
   "outputs": [
    {
     "name": "stdout",
     "output_type": "stream",
     "text": [
      "Hello World\n"
     ]
    }
   ],
   "source": [
    "print(\"Hello World\")"
   ]
  },
  {
   "cell_type": "code",
   "execution_count": 10,
   "metadata": {},
   "outputs": [
    {
     "name": "stdout",
     "output_type": "stream",
     "text": [
      " Volume in drive D is LENOVO\n",
      " Volume Serial Number is 0299-ED51\n",
      "\n",
      " Directory of D:\\handson\\Module1\\B2_24_25Sept\n",
      "\n",
      "24-09-2020  08:59    <DIR>          .\n",
      "24-09-2020  08:59    <DIR>          ..\n",
      "24-09-2020  08:41    <DIR>          .ipynb_checkpoints\n",
      "24-09-2020  08:59             8,169 Day1.ipynb\n",
      "23-09-2020  08:37               115 README.md\n",
      "24-09-2020  08:56                14 test.txt\n",
      "24-09-2020  08:41                72 Untitled.ipynb\n",
      "               4 File(s)          8,370 bytes\n",
      "               3 Dir(s)   5,769,412,608 bytes free\n"
     ]
    }
   ],
   "source": [
    "!dir"
   ]
  },
  {
   "cell_type": "code",
   "execution_count": 4,
   "metadata": {},
   "outputs": [
    {
     "data": {
      "application/json": {
       "cell": {
        "!": "OSMagics",
        "HTML": "Other",
        "SVG": "Other",
        "bash": "Other",
        "capture": "ExecutionMagics",
        "cmd": "Other",
        "debug": "ExecutionMagics",
        "file": "Other",
        "html": "DisplayMagics",
        "javascript": "DisplayMagics",
        "js": "DisplayMagics",
        "latex": "DisplayMagics",
        "markdown": "DisplayMagics",
        "perl": "Other",
        "prun": "ExecutionMagics",
        "pypy": "Other",
        "python": "Other",
        "python2": "Other",
        "python3": "Other",
        "ruby": "Other",
        "script": "ScriptMagics",
        "sh": "Other",
        "svg": "DisplayMagics",
        "sx": "OSMagics",
        "system": "OSMagics",
        "time": "ExecutionMagics",
        "timeit": "ExecutionMagics",
        "writefile": "OSMagics"
       },
       "line": {
        "alias": "OSMagics",
        "alias_magic": "BasicMagics",
        "autoawait": "AsyncMagics",
        "autocall": "AutoMagics",
        "automagic": "AutoMagics",
        "autosave": "KernelMagics",
        "bookmark": "OSMagics",
        "cd": "OSMagics",
        "clear": "KernelMagics",
        "cls": "KernelMagics",
        "colors": "BasicMagics",
        "conda": "PackagingMagics",
        "config": "ConfigMagics",
        "connect_info": "KernelMagics",
        "copy": "Other",
        "ddir": "Other",
        "debug": "ExecutionMagics",
        "dhist": "OSMagics",
        "dirs": "OSMagics",
        "doctest_mode": "BasicMagics",
        "echo": "Other",
        "ed": "Other",
        "edit": "KernelMagics",
        "env": "OSMagics",
        "gui": "BasicMagics",
        "hist": "Other",
        "history": "HistoryMagics",
        "killbgscripts": "ScriptMagics",
        "ldir": "Other",
        "less": "KernelMagics",
        "load": "CodeMagics",
        "load_ext": "ExtensionMagics",
        "loadpy": "CodeMagics",
        "logoff": "LoggingMagics",
        "logon": "LoggingMagics",
        "logstart": "LoggingMagics",
        "logstate": "LoggingMagics",
        "logstop": "LoggingMagics",
        "ls": "Other",
        "lsmagic": "BasicMagics",
        "macro": "ExecutionMagics",
        "magic": "BasicMagics",
        "matplotlib": "PylabMagics",
        "mkdir": "Other",
        "more": "KernelMagics",
        "notebook": "BasicMagics",
        "page": "BasicMagics",
        "pastebin": "CodeMagics",
        "pdb": "ExecutionMagics",
        "pdef": "NamespaceMagics",
        "pdoc": "NamespaceMagics",
        "pfile": "NamespaceMagics",
        "pinfo": "NamespaceMagics",
        "pinfo2": "NamespaceMagics",
        "pip": "PackagingMagics",
        "popd": "OSMagics",
        "pprint": "BasicMagics",
        "precision": "BasicMagics",
        "prun": "ExecutionMagics",
        "psearch": "NamespaceMagics",
        "psource": "NamespaceMagics",
        "pushd": "OSMagics",
        "pwd": "OSMagics",
        "pycat": "OSMagics",
        "pylab": "PylabMagics",
        "qtconsole": "KernelMagics",
        "quickref": "BasicMagics",
        "recall": "HistoryMagics",
        "rehashx": "OSMagics",
        "reload_ext": "ExtensionMagics",
        "ren": "Other",
        "rep": "Other",
        "rerun": "HistoryMagics",
        "reset": "NamespaceMagics",
        "reset_selective": "NamespaceMagics",
        "rmdir": "Other",
        "run": "ExecutionMagics",
        "save": "CodeMagics",
        "sc": "OSMagics",
        "set_env": "OSMagics",
        "store": "StoreMagics",
        "sx": "OSMagics",
        "system": "OSMagics",
        "tb": "ExecutionMagics",
        "time": "ExecutionMagics",
        "timeit": "ExecutionMagics",
        "unalias": "OSMagics",
        "unload_ext": "ExtensionMagics",
        "who": "NamespaceMagics",
        "who_ls": "NamespaceMagics",
        "whos": "NamespaceMagics",
        "xdel": "NamespaceMagics",
        "xmode": "BasicMagics"
       }
      },
      "text/plain": [
       "Available line magics:\n",
       "%alias  %alias_magic  %autoawait  %autocall  %automagic  %autosave  %bookmark  %cd  %clear  %cls  %colors  %conda  %config  %connect_info  %copy  %ddir  %debug  %dhist  %dirs  %doctest_mode  %echo  %ed  %edit  %env  %gui  %hist  %history  %killbgscripts  %ldir  %less  %load  %load_ext  %loadpy  %logoff  %logon  %logstart  %logstate  %logstop  %ls  %lsmagic  %macro  %magic  %matplotlib  %mkdir  %more  %notebook  %page  %pastebin  %pdb  %pdef  %pdoc  %pfile  %pinfo  %pinfo2  %pip  %popd  %pprint  %precision  %prun  %psearch  %psource  %pushd  %pwd  %pycat  %pylab  %qtconsole  %quickref  %recall  %rehashx  %reload_ext  %ren  %rep  %rerun  %reset  %reset_selective  %rmdir  %run  %save  %sc  %set_env  %store  %sx  %system  %tb  %time  %timeit  %unalias  %unload_ext  %who  %who_ls  %whos  %xdel  %xmode\n",
       "\n",
       "Available cell magics:\n",
       "%%!  %%HTML  %%SVG  %%bash  %%capture  %%cmd  %%debug  %%file  %%html  %%javascript  %%js  %%latex  %%markdown  %%perl  %%prun  %%pypy  %%python  %%python2  %%python3  %%ruby  %%script  %%sh  %%svg  %%sx  %%system  %%time  %%timeit  %%writefile\n",
       "\n",
       "Automagic is ON, % prefix IS NOT needed for line magics."
      ]
     },
     "execution_count": 4,
     "metadata": {},
     "output_type": "execute_result"
    }
   ],
   "source": [
    "%lsmagic"
   ]
  },
  {
   "cell_type": "code",
   "execution_count": 5,
   "metadata": {},
   "outputs": [
    {
     "data": {
      "text/plain": [
       "'D:\\\\handson\\\\Module1\\\\B2_24_25Sept'"
      ]
     },
     "execution_count": 5,
     "metadata": {},
     "output_type": "execute_result"
    }
   ],
   "source": [
    "%pwd"
   ]
  },
  {
   "cell_type": "code",
   "execution_count": 6,
   "metadata": {},
   "outputs": [],
   "source": [
    "%pwd?"
   ]
  },
  {
   "cell_type": "code",
   "execution_count": 7,
   "metadata": {},
   "outputs": [
    {
     "name": "stdout",
     "output_type": "stream",
     "text": [
      "Writing test.txt\n"
     ]
    }
   ],
   "source": [
    "%%writefile test.txt\n",
    "hello World!"
   ]
  },
  {
   "cell_type": "code",
   "execution_count": 8,
   "metadata": {},
   "outputs": [
    {
     "name": "stdout",
     "output_type": "stream",
     "text": [
      "hello World!\n",
      "\n"
     ]
    }
   ],
   "source": [
    "with open('test.txt', 'rt') as f:\n",
    "    print(f.read())"
   ]
  },
  {
   "cell_type": "markdown",
   "metadata": {},
   "source": [
    "# py refresher"
   ]
  },
  {
   "cell_type": "code",
   "execution_count": 12,
   "metadata": {},
   "outputs": [],
   "source": [
    "# data types\n",
    "a = 1\n",
    "f = 1.2\n",
    "b = True\n",
    "s = 'Hello' # \"Hello\"  # immutable\n",
    "lst = [1, 1.2, \"OK\", [1,2,3]] #Mutable\n",
    "st = { 1,2,3 } #Mutable, Duplicates - Not allowed\n",
    "ed = { 'ok' : 2, 'nok': 3} #keys are like set"
   ]
  },
  {
   "cell_type": "code",
   "execution_count": 14,
   "metadata": {},
   "outputs": [
    {
     "name": "stdout",
     "output_type": "stream",
     "text": [
      "1.2\n"
     ]
    }
   ],
   "source": [
    "if a == 1 and f <= 0:\n",
    "    print(a)\n",
    "elif f >= 1.0 or s == \"OK\":\n",
    "    print(f)\n",
    "else:\n",
    "    print(\"other\")"
   ]
  },
  {
   "cell_type": "code",
   "execution_count": 25,
   "metadata": {},
   "outputs": [
    {
     "name": "stdout",
     "output_type": "stream",
     "text": [
      "error\n",
      "[1, 1.2, 'OK', 30, 30, 30, 30, 30, 30, 40]\n",
      "{40, 1, 2, 3}\n",
      "{'ok': 2, 'nok': 3, 'new': [1, 2, 3]}\n"
     ]
    }
   ],
   "source": [
    "#mutability/immutability\n",
    "t = (1,2,3) #immutable\n",
    "try:\n",
    "    s[0] = 'K'  #Error\n",
    "    t[0] = 20    \n",
    "except Exception:\n",
    "    print(\"error\")\n",
    "lst[-1] = 30\n",
    "lst.append(40)\n",
    "print(lst)\n",
    "st.add(40)\n",
    "print(st)\n",
    "ed['new'] = [1,2,3]\n",
    "print(ed)"
   ]
  },
  {
   "cell_type": "code",
   "execution_count": 28,
   "metadata": {},
   "outputs": [
    {
     "name": "stdout",
     "output_type": "stream",
     "text": [
      "10 3 4 5 3\n"
     ]
    },
    {
     "data": {
      "text/plain": [
       "3"
      ]
     },
     "execution_count": 28,
     "metadata": {},
     "output_type": "execute_result"
    }
   ],
   "source": [
    "#empty\n",
    "elst = [] ; edict = {} ; estr = '' ; eset = set(); etuple = ()\n",
    "#length\n",
    "print(len(lst), len(t), len(st), len(s), len(ed))\n",
    "#Accesing\n",
    "s[0]  #index starts from 0\n",
    "lst[-1] #- means starts from RHS \n",
    "lst[0:3] #start:end:step , default: step=1, end = end of the collection, start=start of the collection\n",
    "#indexing not possible in set \n",
    "ed['nok']"
   ]
  },
  {
   "cell_type": "code",
   "execution_count": 34,
   "metadata": {},
   "outputs": [
    {
     "name": "stdout",
     "output_type": "stream",
     "text": [
      "True True True False True\n",
      "1\n",
      "1.2\n",
      "OK\n",
      "30\n",
      "30\n",
      "30\n",
      "30\n",
      "30\n",
      "30\n",
      "40\n",
      "ok 2\n",
      "nok 3\n",
      "new [1, 2, 3]\n",
      "[21, 21.2, 50, 50, 50, 50, 50, 50, 60]\n",
      "[21, 21.2, 50, 50, 50, 50, 50, 50, 60]\n"
     ]
    }
   ],
   "source": [
    "#containment checking\n",
    "print( 2  not in lst, 3 in st, 1 in t, 'O' in s, 'nok' in ed)\n",
    "#iteration \n",
    "for e in lst:\n",
    "    print(e)\n",
    "for k in ed:\n",
    "    print(k, ed[k])\n",
    "#example - comprehension\n",
    "el = []\n",
    "for e in lst:\n",
    "    if type(e) is not str:  #type(s) = <class 'str'>\n",
    "        el.append( e + 20)\n",
    "print(el)\n",
    "#comprehension\n",
    "el = [e + 20 for e in lst if type(e) is not str]\n",
    "print(el)\n",
    "{e + 20 for e in lst if type(e) is not str} # set comprehension\n",
    "{e : e + 20 for e in lst if type(e) is not str} #dict comprehension"
   ]
  },
  {
   "cell_type": "code",
   "execution_count": 37,
   "metadata": {},
   "outputs": [
    {
     "name": "stdout",
     "output_type": "stream",
     "text": [
      "{'ok': [{'ok': [{'ok': [{'ok': 2, 'nok': 3}]}]}]}\n"
     ]
    }
   ],
   "source": [
    "#Nested datastructure \n",
    "d2 = {'ok' : 2, 'nok': 3}\n",
    "c = 0\n",
    "while c < 3:\n",
    "    d2 = {'ok': [d2]}\n",
    "    c += 1\n",
    "print(d2)"
   ]
  },
  {
   "cell_type": "code",
   "execution_count": 47,
   "metadata": {},
   "outputs": [
    {
     "name": "stdout",
     "output_type": "stream",
     "text": [
      "{'ok': [{'ok': [{'ok': [{'ok': 2, 'nok': 30}]}]}]}\n",
      "{'ok': [{'ok': [{'ok': [{'nok': 30, 'ok': 2}]}]}]}\n",
      "Help on function pprint in module pprint:\n",
      "\n",
      "pprint(object, stream=None, indent=1, width=80, depth=None, *, compact=False)\n",
      "    Pretty-print a Python object to a stream [default is sys.stdout].\n",
      "\n"
     ]
    }
   ],
   "source": [
    "# can you change 'nok' value to 30?\n",
    "type(d2), d2.keys(), d2['ok'], type(d2['ok']), len(d2['ok']), d2['ok'][0]\n",
    "#result\n",
    "d2['ok'][0]['ok'][0]['ok'][0]['nok'] = 30\n",
    "print(d2)\n",
    "#module imports\n",
    "import pprint\n",
    "pprint.pprint(d2)\n",
    "#check \n",
    "dir(pprint) # all methods of pprint\n",
    "help(pprint.pprint) #to see help"
   ]
  },
  {
   "cell_type": "code",
   "execution_count": 52,
   "metadata": {},
   "outputs": [
    {
     "data": {
      "text/plain": [
       "['D:\\\\handson\\\\Module1\\\\B2_24_25Sept',\n",
       " 'C:\\\\Anaconda3\\\\envs\\\\aiml\\\\python37.zip',\n",
       " 'C:\\\\Anaconda3\\\\envs\\\\aiml\\\\DLLs',\n",
       " 'C:\\\\Anaconda3\\\\envs\\\\aiml\\\\lib',\n",
       " 'C:\\\\Anaconda3\\\\envs\\\\aiml',\n",
       " '',\n",
       " 'C:\\\\Anaconda3\\\\envs\\\\aiml\\\\lib\\\\site-packages',\n",
       " 'C:\\\\Anaconda3\\\\envs\\\\aiml\\\\lib\\\\site-packages\\\\win32',\n",
       " 'C:\\\\Anaconda3\\\\envs\\\\aiml\\\\lib\\\\site-packages\\\\win32\\\\lib',\n",
       " 'C:\\\\Anaconda3\\\\envs\\\\aiml\\\\lib\\\\site-packages\\\\Pythonwin',\n",
       " 'C:\\\\Anaconda3\\\\envs\\\\aiml\\\\lib\\\\site-packages\\\\IPython\\\\extensions',\n",
       " 'C:\\\\Users\\\\das\\\\.ipython']"
      ]
     },
     "execution_count": 52,
     "metadata": {},
     "output_type": "execute_result"
    }
   ],
   "source": [
    "import sys\n",
    "sys.path"
   ]
  },
  {
   "cell_type": "code",
   "execution_count": 61,
   "metadata": {},
   "outputs": [
    {
     "name": "stdout",
     "output_type": "stream",
     "text": [
      "Overwriting mex.py\n"
     ]
    }
   ],
   "source": [
    "%%writefile mex.py\n",
    "def my_add(x,y):\n",
    "    return x+y\n",
    "\n",
    "def my_add1(x,y=20):\n",
    "    return x+y"
   ]
  },
  {
   "cell_type": "code",
   "execution_count": 62,
   "metadata": {},
   "outputs": [
    {
     "data": {
      "text/plain": [
       "40"
      ]
     },
     "execution_count": 62,
     "metadata": {},
     "output_type": "execute_result"
    }
   ],
   "source": [
    "import mex\n",
    "import importlib\n",
    "importlib.reload(mex)\n",
    "mex.my_add(2,3)  # positional arg passing\n",
    "mex.my_add(y=3, x=2) #keyword based arg passing\n",
    "mex.my_add(2, y=3) #mix of above, only positional should be first\n",
    "mex.my_add1(20)  #y is default"
   ]
  },
  {
   "cell_type": "code",
   "execution_count": 69,
   "metadata": {},
   "outputs": [
    {
     "data": {
      "text/plain": [
       "<function __main__.p(e)>"
      ]
     },
     "execution_count": 69,
     "metadata": {},
     "output_type": "execute_result"
    }
   ],
   "source": [
    "lsw = ['a', 'aa', 'xyz', 'x']\n",
    "sorted(lsw) #based on natural sorting order of string\n",
    "def p(e): # e is datatype of each element \n",
    "    return len(e)\n",
    "#HOF\n",
    "sorted(lsw, key=p, reverse=True) #sorting by key \n",
    "#OR\n",
    "sorted(lsw, key=lambda e: len(e), reverse=True) # constraint: one expression only can be returned\n",
    "p('aa')\n",
    "(lambda e: len(e))('aa')\n",
    "type(p)\n",
    "p"
   ]
  },
  {
   "cell_type": "markdown",
   "metadata": {},
   "source": [
    "# Introducing numpy"
   ]
  },
  {
   "cell_type": "markdown",
   "metadata": {},
   "source": [
    "Create two lists x,y of 100K random numbers. \n",
    "Measure the time taken to elementwise addition of those two lists\n"
   ]
  },
  {
   "cell_type": "code",
   "execution_count": 70,
   "metadata": {},
   "outputs": [
    {
     "name": "stdout",
     "output_type": "stream",
     "text": [
      "143 ns ± 20.5 ns per loop (mean ± std. dev. of 7 runs, 1000000 loops each)\n"
     ]
    }
   ],
   "source": [
    "a = 1\n",
    "b = 1\n",
    "%timeit a+b"
   ]
  },
  {
   "cell_type": "code",
   "execution_count": 74,
   "metadata": {},
   "outputs": [
    {
     "name": "stdout",
     "output_type": "stream",
     "text": [
      "38.7 ms ± 5.05 ms per loop (mean ± std. dev. of 7 runs, 10 loops each)\n"
     ]
    }
   ],
   "source": [
    "import random\n",
    "n = 100000\n",
    "x = [random.random() for _ in range(n)]\n",
    "y = [random.random() for _ in range(n)]\n",
    "x[:3], y[:3]\n",
    "\n",
    "z = [x[i] + y[i] for i in range(n)]\n",
    "%timeit [x[i] + y[i] for i in range(n)]"
   ]
  },
  {
   "cell_type": "code",
   "execution_count": 76,
   "metadata": {},
   "outputs": [
    {
     "name": "stdout",
     "output_type": "stream",
     "text": [
      "249 µs ± 15.4 µs per loop (mean ± std. dev. of 7 runs, 1000 loops each)\n"
     ]
    }
   ],
   "source": [
    "import numpy as np\n",
    "xn = np.array(x)\n",
    "yn = np.array(y)\n",
    "zn = xn + yn # API is simpler\n",
    "#performance is better\n",
    "%timeit xn+yn"
   ]
  },
  {
   "cell_type": "code",
   "execution_count": 77,
   "metadata": {},
   "outputs": [
    {
     "data": {
      "text/plain": [
       "([0.6726668555395133, 1.3029464708389833, 0.9331093638659949],\n",
       " array([0.67266686, 1.30294647, 0.93310936]))"
      ]
     },
     "execution_count": 77,
     "metadata": {},
     "output_type": "execute_result"
    }
   ],
   "source": [
    "z[:3], zn[:3]"
   ]
  },
  {
   "cell_type": "code",
   "execution_count": 79,
   "metadata": {},
   "outputs": [
    {
     "data": {
      "text/plain": [
       "(620, 81)"
      ]
     },
     "execution_count": 79,
     "metadata": {},
     "output_type": "execute_result"
    }
   ],
   "source": [
    "len(dir(np)), len(dir(np.random))"
   ]
  },
  {
   "cell_type": "code",
   "execution_count": 80,
   "metadata": {},
   "outputs": [],
   "source": [
    "#Creation \n",
    "x = np.array([1,2,3])\n",
    "y = np.linspace(2.0, 3.0, num=3) # logspace \n",
    "z = np.arange(12).reshape( (2,6) )\n",
    "ru = np.random.random( (2,6) ) #uniform random \n",
    "rn = np.random.normal(0, 1, (2,6) ) # mu=0, var=1"
   ]
  },
  {
   "cell_type": "code",
   "execution_count": 83,
   "metadata": {},
   "outputs": [
    {
     "data": {
      "text/plain": [
       "((2, 6), 2, dtype('float64'))"
      ]
     },
     "execution_count": 83,
     "metadata": {},
     "output_type": "execute_result"
    }
   ],
   "source": [
    "#ops \n",
    "ru.shape, ru.ndim, ru.dtype"
   ]
  },
  {
   "cell_type": "code",
   "execution_count": 91,
   "metadata": {},
   "outputs": [],
   "source": [
    "#Access\n",
    "x[0]\n",
    "z[0,0]\n",
    "z[:, 0:2], z[0, :] # : is nothing but slicing ie start:end:step\n",
    "z[ z> 2]\n",
    "z[ (z>2) & (z < 4)] # &, | , not \n",
    "z[0,0] = 20"
   ]
  },
  {
   "cell_type": "code",
   "execution_count": 101,
   "metadata": {},
   "outputs": [
    {
     "data": {
      "text/plain": [
       "matrix([[ 0.29324775, -0.09008593],\n",
       "        [-0.74651353,  0.92397673],\n",
       "        [ 0.90613584, -0.61936724],\n",
       "        [-0.17791049,  0.55441732],\n",
       "        [ 0.47878205, -0.02019018],\n",
       "        [ 0.57490072, -0.37442538]])"
      ]
     },
     "execution_count": 101,
     "metadata": {},
     "output_type": "execute_result"
    }
   ],
   "source": [
    "#elementwise \n",
    "np.sqrt(z)\n",
    "ru + rn  #both are having dimensions\n",
    "x/y\n",
    "z + 2\n",
    "ru * rn # elementwise \n",
    "#matrix \n",
    "np.mat(ru) * np.mat(rn).T  #.T is transpose\n",
    "np.mat(ru).I  #inverse\n",
    "#dir(np.mat(ru))"
   ]
  },
  {
   "cell_type": "code",
   "execution_count": 107,
   "metadata": {},
   "outputs": [
    {
     "name": "stdout",
     "output_type": "stream",
     "text": [
      "[[20  1  2  3  4  5]\n",
      " [ 6  7  8  9 10 11]] 86 [26  8 10 12 14 16] [35 51]\n"
     ]
    },
    {
     "data": {
      "text/plain": [
       "(5, 6, 8)"
      ]
     },
     "execution_count": 107,
     "metadata": {},
     "output_type": "execute_result"
    }
   ],
   "source": [
    "# axis based , for 2D, axis=0=row , axis=1=column\n",
    "# np.sum, np.mean, np.std ....\n",
    "print(z,\n",
    "      np.sum(z),\n",
    "      np.sum(z, axis=0), #row varying, columnwise\n",
    "      np.sum(z, axis=1)) #col varying, rowwise\n",
    "\n",
    "#(5,6,7,8)\n",
    "zz = np.arange(5*6*7*8).reshape( (5,6,7,8))\n",
    "np.sum(zz, axis=2).shape # axis=2 is collapsed , so result is (5,6,8)"
   ]
  },
  {
   "cell_type": "code",
   "execution_count": 109,
   "metadata": {},
   "outputs": [
    {
     "data": {
      "text/plain": [
       "array([[ 1, 10],\n",
       "       [ 2, 20],\n",
       "       [ 3, 30]])"
      ]
     },
     "execution_count": 109,
     "metadata": {},
     "output_type": "execute_result"
    }
   ],
   "source": [
    "#manipulation\n",
    "a = np.array([1,2,3])\n",
    "b = np.array([10,20,30])\n",
    "np.c_[a,b]"
   ]
  },
  {
   "cell_type": "code",
   "execution_count": 110,
   "metadata": {},
   "outputs": [
    {
     "data": {
      "text/plain": [
       "array([[ 1,  2,  3],\n",
       "       [10, 20, 30]])"
      ]
     },
     "execution_count": 110,
     "metadata": {},
     "output_type": "execute_result"
    }
   ],
   "source": [
    "np.vstack( (a,b))"
   ]
  },
  {
   "cell_type": "code",
   "execution_count": 111,
   "metadata": {},
   "outputs": [
    {
     "data": {
      "text/plain": [
       "array([ 1,  2,  3, 10, 20, 30])"
      ]
     },
     "execution_count": 111,
     "metadata": {},
     "output_type": "execute_result"
    }
   ],
   "source": [
    "np.hstack( (a,b ))"
   ]
  },
  {
   "cell_type": "code",
   "execution_count": 120,
   "metadata": {},
   "outputs": [
    {
     "data": {
      "text/plain": [
       "array([[1, 2, 3],\n",
       "       [1, 2, 3],\n",
       "       [1, 2, 3]])"
      ]
     },
     "execution_count": 120,
     "metadata": {},
     "output_type": "execute_result"
    }
   ],
   "source": [
    "#broadcasting\n",
    "y1 = y.reshape( (3,1))\n",
    "x.shape,y1.shape  # (3,) , (3,1)\n",
    "x + y1\n",
    "np.tile(x, (3,1)), np.t"
   ]
  },
  {
   "cell_type": "code",
   "execution_count": null,
   "metadata": {},
   "outputs": [],
   "source": []
  }
 ],
 "metadata": {
  "kernelspec": {
   "display_name": "Python 3",
   "language": "python",
   "name": "python3"
  },
  "language_info": {
   "codemirror_mode": {
    "name": "ipython",
    "version": 3
   },
   "file_extension": ".py",
   "mimetype": "text/x-python",
   "name": "python",
   "nbconvert_exporter": "python",
   "pygments_lexer": "ipython3",
   "version": "3.7.9"
  }
 },
 "nbformat": 4,
 "nbformat_minor": 4
}

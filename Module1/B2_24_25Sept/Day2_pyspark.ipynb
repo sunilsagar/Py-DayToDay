{
 "cells": [
  {
   "cell_type": "code",
   "execution_count": 1,
   "metadata": {},
   "outputs": [
    {
     "name": "stdout",
     "output_type": "stream",
     "text": [
      "Available kernels:\n",
      "  pyspark        C:\\Anaconda3\\envs\\aiml\\share\\jupyter\\kernels\\PySpark\n",
      "  pysparkauto    C:\\Anaconda3\\envs\\aiml\\share\\jupyter\\kernels\\PySparkAuto\n",
      "  python3        C:\\Anaconda3\\envs\\aiml\\share\\jupyter\\kernels\\python3\n"
     ]
    }
   ],
   "source": [
    "!jupyter kernelspec list"
   ]
  },
  {
   "cell_type": "code",
   "execution_count": 3,
   "metadata": {},
   "outputs": [],
   "source": [
    "%pycat C:\\Anaconda3\\envs\\aiml\\share\\jupyter\\kernels\\PySpark\\kernel.json\n",
    "    "
   ]
  },
  {
   "cell_type": "code",
   "execution_count": 4,
   "metadata": {},
   "outputs": [],
   "source": [
    "from pyspark.sql import *\n",
    "import pyspark.sql.functions as F \n"
   ]
  },
  {
   "cell_type": "code",
   "execution_count": 5,
   "metadata": {},
   "outputs": [],
   "source": [
    "spark = SparkSession.builder.appName(\"basic\").getOrCreate()"
   ]
  },
  {
   "cell_type": "code",
   "execution_count": 6,
   "metadata": {},
   "outputs": [
    {
     "data": {
      "text/html": [
       "\n",
       "            <div>\n",
       "                <p><b>SparkSession - in-memory</b></p>\n",
       "                \n",
       "        <div>\n",
       "            <p><b>SparkContext</b></p>\n",
       "\n",
       "            <p><a href=\"http://Home-E402:4040\">Spark UI</a></p>\n",
       "\n",
       "            <dl>\n",
       "              <dt>Version</dt>\n",
       "                <dd><code>v2.4.4</code></dd>\n",
       "              <dt>Master</dt>\n",
       "                <dd><code>local[*]</code></dd>\n",
       "              <dt>AppName</dt>\n",
       "                <dd><code>basic</code></dd>\n",
       "            </dl>\n",
       "        </div>\n",
       "        \n",
       "            </div>\n",
       "        "
      ],
      "text/plain": [
       "<pyspark.sql.session.SparkSession at 0x7f12643408>"
      ]
     },
     "execution_count": 6,
     "metadata": {},
     "output_type": "execute_result"
    }
   ],
   "source": [
    "spark"
   ]
  },
  {
   "cell_type": "code",
   "execution_count": 11,
   "metadata": {},
   "outputs": [],
   "source": [
    "len(dir(DataFrame)), len(dir(Column)), len(dir(F))\n",
    "file = 'data/spark/Cartier+for+WinnersCurse.csv'\n",
    "sdf = spark.read.format('csv').option(\"header\", \"true\")\\\n",
    "                .option(\"inferSchema\", \"true\").load(file)\n",
    "sdf.show()"
   ]
  },
  {
   "cell_type": "code",
   "execution_count": 15,
   "metadata": {},
   "outputs": [
    {
     "data": {
      "text/plain": [
       "1"
      ]
     },
     "execution_count": 15,
     "metadata": {},
     "output_type": "execute_result"
    }
   ],
   "source": [
    "sdf.count()\n",
    "sdf.rdd.getNumPartitions()\n",
    "\n",
    "#ops\n",
    "sdf.columns\n",
    "sdf.dtypes\n",
    "sdf.printSchema()"
   ]
  },
  {
   "cell_type": "code",
   "execution_count": 24,
   "metadata": {},
   "outputs": [
    {
     "name": "stdout",
     "output_type": "stream",
     "text": [
      "+----------+------+-----------+-----------+----------+-------+-------+\n",
      "| auctionid|   bid|    bidtime|     bidder|bidderrate|openbid|  price|\n",
      "+----------+------+-----------+-----------+----------+-------+-------+\n",
      "|1638843936|1500.0|5.226377315|carloss8055|         5|  500.0| 1625.0|\n",
      "|1638843936|1550.0|6.892916667|carloss8055|         5|  500.0| 1625.0|\n",
      "|1638843936|1625.0|6.893113426|carloss8055|         5|  500.0| 1625.0|\n",
      "|1638844464| 450.0|6.736319444|  adammurry|         5|  300.0|  740.0|\n",
      "|1638844464| 500.0|6.736469907|  adammurry|         5|  300.0|  740.0|\n",
      "|1638844464| 700.0|6.995763889|  adammurry|         5|  300.0|  740.0|\n",
      "|1638844464| 740.0| 6.99974537|  adammurry|         5|  300.0|  740.0|\n",
      "|1640550476| 260.0|6.917569444|carloss8055|         5|    1.0|  300.0|\n",
      "|1640550476| 280.0|6.980590278|carloss8055|         5|    1.0|  300.0|\n",
      "|1641628327|1650.0|6.951226852|carloss8055|         5|  500.0|1894.78|\n",
      "|1641628327|1700.0| 6.95150463|carloss8055|         5|  500.0|1894.78|\n",
      "|1641628327|1800.0|6.951759259|carloss8055|         5|  500.0|1894.78|\n",
      "|1641628327|1850.0|   6.959375|carloss8055|         5|  500.0|1894.78|\n",
      "|1643244227| 750.0|3.544513889|  adammurry|         5|  499.0| 1025.0|\n",
      "|1643244227| 821.0|4.662476852|  adammurry|         5|  499.0| 1025.0|\n",
      "|1643244227| 850.0|4.662719907|  adammurry|         5|  499.0| 1025.0|\n",
      "|1643244227|1025.0|6.989085648|  adammurry|         5|  499.0| 1025.0|\n",
      "|1644049270| 750.0|2.256643519|  adammurry|         5|   0.01| 1600.0|\n",
      "|1644049270| 850.0|2.256782407|  adammurry|         5|   0.01| 1600.0|\n",
      "|1644049270|1580.0| 6.93912037|  adammurry|         5|   0.01| 1600.0|\n",
      "+----------+------+-----------+-----------+----------+-------+-------+\n",
      "only showing top 20 rows\n",
      "\n"
     ]
    }
   ],
   "source": [
    "#filter\n",
    "sdf.filter(\"bidderrate == 5\")   #.show()\n",
    "#or\n",
    "sdf.filter(sdf.bidderrate == 5) #.show()\n",
    "#or \n",
    "sdf.filter(sdf['bidderrate'] == 5) #.show()\n",
    "#or \n",
    "sdf.filter(F.col('bidderrate') == 5)  #.show()  #This version\n",
    "\n",
    "#display rows where bidder is \"adammurry\" or carloss8055\n",
    "sdf.filter(F.col('bidder').isin(\"adammurry\" , 'carloss8055') ).show()"
   ]
  },
  {
   "cell_type": "code",
   "execution_count": 29,
   "metadata": {},
   "outputs": [
    {
     "data": {
      "text/plain": [
       "97"
      ]
     },
     "execution_count": 29,
     "metadata": {},
     "output_type": "execute_result"
    }
   ],
   "source": [
    "#Select - Transformations vs actions\n",
    "sdf.select(\"auctionid\")\\\n",
    "    .distinct()\\\n",
    "    .count()"
   ]
  },
  {
   "cell_type": "code",
   "execution_count": null,
   "metadata": {},
   "outputs": [],
   "source": [
    "sdf.select(\"auctionid\")\\\n",
    "    .distinct("
   ]
  }
 ],
 "metadata": {
  "kernelspec": {
   "display_name": "PySpark",
   "language": "python",
   "name": "pyspark"
  },
  "language_info": {
   "codemirror_mode": {
    "name": "ipython",
    "version": 3
   },
   "file_extension": ".py",
   "mimetype": "text/x-python",
   "name": "python",
   "nbconvert_exporter": "python",
   "pygments_lexer": "ipython3",
   "version": "3.7.9"
  }
 },
 "nbformat": 4,
 "nbformat_minor": 4
}

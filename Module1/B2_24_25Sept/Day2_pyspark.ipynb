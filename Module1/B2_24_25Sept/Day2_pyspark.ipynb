{
 "cells": [
  {
   "cell_type": "code",
   "execution_count": 1,
   "metadata": {},
   "outputs": [
    {
     "name": "stdout",
     "output_type": "stream",
     "text": [
      "Available kernels:\n",
      "  pyspark        C:\\Anaconda3\\envs\\aiml\\share\\jupyter\\kernels\\PySpark\n",
      "  pysparkauto    C:\\Anaconda3\\envs\\aiml\\share\\jupyter\\kernels\\PySparkAuto\n",
      "  python3        C:\\Anaconda3\\envs\\aiml\\share\\jupyter\\kernels\\python3\n"
     ]
    }
   ],
   "source": [
    "!jupyter kernelspec list"
   ]
  },
  {
   "cell_type": "code",
   "execution_count": 3,
   "metadata": {},
   "outputs": [],
   "source": [
    "%pycat C:\\Anaconda3\\envs\\aiml\\share\\jupyter\\kernels\\PySpark\\kernel.json\n",
    "    "
   ]
  },
  {
   "cell_type": "code",
   "execution_count": 4,
   "metadata": {},
   "outputs": [],
   "source": [
    "from pyspark.sql import *\n",
    "import pyspark.sql.functions as F \n"
   ]
  },
  {
   "cell_type": "code",
   "execution_count": 5,
   "metadata": {},
   "outputs": [],
   "source": [
    "spark = SparkSession.builder.appName(\"basic\").getOrCreate()"
   ]
  },
  {
   "cell_type": "code",
   "execution_count": 6,
   "metadata": {},
   "outputs": [
    {
     "data": {
      "text/html": [
       "\n",
       "            <div>\n",
       "                <p><b>SparkSession - in-memory</b></p>\n",
       "                \n",
       "        <div>\n",
       "            <p><b>SparkContext</b></p>\n",
       "\n",
       "            <p><a href=\"http://Home-E402:4040\">Spark UI</a></p>\n",
       "\n",
       "            <dl>\n",
       "              <dt>Version</dt>\n",
       "                <dd><code>v2.4.4</code></dd>\n",
       "              <dt>Master</dt>\n",
       "                <dd><code>local[*]</code></dd>\n",
       "              <dt>AppName</dt>\n",
       "                <dd><code>basic</code></dd>\n",
       "            </dl>\n",
       "        </div>\n",
       "        \n",
       "            </div>\n",
       "        "
      ],
      "text/plain": [
       "<pyspark.sql.session.SparkSession at 0x7f12643408>"
      ]
     },
     "execution_count": 6,
     "metadata": {},
     "output_type": "execute_result"
    }
   ],
   "source": [
    "spark"
   ]
  },
  {
   "cell_type": "code",
   "execution_count": 11,
   "metadata": {},
   "outputs": [],
   "source": [
    "len(dir(DataFrame)), len(dir(Column)), len(dir(F))\n",
    "file = 'data/spark/Cartier+for+WinnersCurse.csv'\n",
    "sdf = spark.read.format('csv').option(\"header\", \"true\")\\\n",
    "                .option(\"inferSchema\", \"true\").load(file)\n",
    "sdf.show()"
   ]
  },
  {
   "cell_type": "code",
   "execution_count": 15,
   "metadata": {},
   "outputs": [
    {
     "data": {
      "text/plain": [
       "1"
      ]
     },
     "execution_count": 15,
     "metadata": {},
     "output_type": "execute_result"
    }
   ],
   "source": [
    "sdf.count()\n",
    "sdf.rdd.getNumPartitions()\n",
    "\n",
    "#ops\n",
    "sdf.columns\n",
    "sdf.dtypes\n",
    "sdf.printSchema()"
   ]
  },
  {
   "cell_type": "code",
   "execution_count": 24,
   "metadata": {},
   "outputs": [
    {
     "name": "stdout",
     "output_type": "stream",
     "text": [
      "+----------+------+-----------+-----------+----------+-------+-------+\n",
      "| auctionid|   bid|    bidtime|     bidder|bidderrate|openbid|  price|\n",
      "+----------+------+-----------+-----------+----------+-------+-------+\n",
      "|1638843936|1500.0|5.226377315|carloss8055|         5|  500.0| 1625.0|\n",
      "|1638843936|1550.0|6.892916667|carloss8055|         5|  500.0| 1625.0|\n",
      "|1638843936|1625.0|6.893113426|carloss8055|         5|  500.0| 1625.0|\n",
      "|1638844464| 450.0|6.736319444|  adammurry|         5|  300.0|  740.0|\n",
      "|1638844464| 500.0|6.736469907|  adammurry|         5|  300.0|  740.0|\n",
      "|1638844464| 700.0|6.995763889|  adammurry|         5|  300.0|  740.0|\n",
      "|1638844464| 740.0| 6.99974537|  adammurry|         5|  300.0|  740.0|\n",
      "|1640550476| 260.0|6.917569444|carloss8055|         5|    1.0|  300.0|\n",
      "|1640550476| 280.0|6.980590278|carloss8055|         5|    1.0|  300.0|\n",
      "|1641628327|1650.0|6.951226852|carloss8055|         5|  500.0|1894.78|\n",
      "|1641628327|1700.0| 6.95150463|carloss8055|         5|  500.0|1894.78|\n",
      "|1641628327|1800.0|6.951759259|carloss8055|         5|  500.0|1894.78|\n",
      "|1641628327|1850.0|   6.959375|carloss8055|         5|  500.0|1894.78|\n",
      "|1643244227| 750.0|3.544513889|  adammurry|         5|  499.0| 1025.0|\n",
      "|1643244227| 821.0|4.662476852|  adammurry|         5|  499.0| 1025.0|\n",
      "|1643244227| 850.0|4.662719907|  adammurry|         5|  499.0| 1025.0|\n",
      "|1643244227|1025.0|6.989085648|  adammurry|         5|  499.0| 1025.0|\n",
      "|1644049270| 750.0|2.256643519|  adammurry|         5|   0.01| 1600.0|\n",
      "|1644049270| 850.0|2.256782407|  adammurry|         5|   0.01| 1600.0|\n",
      "|1644049270|1580.0| 6.93912037|  adammurry|         5|   0.01| 1600.0|\n",
      "+----------+------+-----------+-----------+----------+-------+-------+\n",
      "only showing top 20 rows\n",
      "\n"
     ]
    }
   ],
   "source": [
    "#filter\n",
    "sdf.filter(\"bidderrate == 5\")   #.show()\n",
    "#or\n",
    "sdf.filter(sdf.bidderrate == 5) #.show()\n",
    "#or \n",
    "sdf.filter(sdf['bidderrate'] == 5) #.show()\n",
    "#or \n",
    "sdf.filter(F.col('bidderrate') == 5)  #.show()  #This version\n",
    "\n",
    "#display rows where bidder is \"adammurry\" or carloss8055\n",
    "sdf.filter(F.col('bidder').isin(\"adammurry\" , 'carloss8055') ).show()"
   ]
  },
  {
   "cell_type": "code",
   "execution_count": 29,
   "metadata": {},
   "outputs": [
    {
     "data": {
      "text/plain": [
       "97"
      ]
     },
     "execution_count": 29,
     "metadata": {},
     "output_type": "execute_result"
    }
   ],
   "source": [
    "#Select - Transformations vs actions\n",
    "sdf.select(\"auctionid\")\\\n",
    "    .distinct()\\\n",
    "    .count()"
   ]
  },
  {
   "cell_type": "code",
   "execution_count": 32,
   "metadata": {},
   "outputs": [
    {
     "name": "stdout",
     "output_type": "stream",
     "text": [
      "== Parsed Logical Plan ==\n",
      "Deduplicate [auctionid#10]\n",
      "+- Project [auctionid#10]\n",
      "   +- Relation[auctionid#10,bid#11,bidtime#12,bidder#13,bidderrate#14,openbid#15,price#16] csv\n",
      "\n",
      "== Analyzed Logical Plan ==\n",
      "auctionid: int\n",
      "Deduplicate [auctionid#10]\n",
      "+- Project [auctionid#10]\n",
      "   +- Relation[auctionid#10,bid#11,bidtime#12,bidder#13,bidderrate#14,openbid#15,price#16] csv\n",
      "\n",
      "== Optimized Logical Plan ==\n",
      "Aggregate [auctionid#10], [auctionid#10]\n",
      "+- Project [auctionid#10]\n",
      "   +- Relation[auctionid#10,bid#11,bidtime#12,bidder#13,bidderrate#14,openbid#15,price#16] csv\n",
      "\n",
      "== Physical Plan ==\n",
      "*(2) HashAggregate(keys=[auctionid#10], functions=[], output=[auctionid#10])\n",
      "+- Exchange hashpartitioning(auctionid#10, 200)\n",
      "   +- *(1) HashAggregate(keys=[auctionid#10], functions=[], output=[auctionid#10])\n",
      "      +- *(1) FileScan csv [auctionid#10] Batched: false, Format: CSV, Location: InMemoryFileIndex[file:/D:/handson/Module1/B2_24_25Sept/data/spark/Cartier+for+WinnersCurse.csv], PartitionFilters: [], PushedFilters: [], ReadSchema: struct<auctionid:int>\n"
     ]
    }
   ],
   "source": [
    "sdf.select(\"auctionid\")\\\n",
    "    .distinct().explain(extended=True)"
   ]
  },
  {
   "cell_type": "code",
   "execution_count": 36,
   "metadata": {},
   "outputs": [
    {
     "name": "stdout",
     "output_type": "stream",
     "text": [
      "+--------+-------------+\n",
      "|max(bid)|count(bidder)|\n",
      "+--------+-------------+\n",
      "|  5400.0|         1348|\n",
      "+--------+-------------+\n",
      "\n",
      "+----------+------------------+---+\n",
      "| auctionid|              bids| cb|\n",
      "+----------+------------------+---+\n",
      "|1642005995|           6750.58| 18|\n",
      "|1647320738|           4330.87| 12|\n",
      "|1647567213|            3025.0|  2|\n",
      "|1643201832|            5098.0|  4|\n",
      "|1644724061|           3265.01| 14|\n",
      "|1641242797|           1683.99|  5|\n",
      "|1649173313|1512.8700000000001|  5|\n",
      "|1650530689|           13850.0|  6|\n",
      "|1642875447|            9054.0| 12|\n",
      "|1648041601|            1518.0|  5|\n",
      "|1648193761|           1231.49|  9|\n",
      "|1649848613|            9499.0| 20|\n",
      "|1650981438|            1126.0|  3|\n",
      "|1645594382|            1363.5| 10|\n",
      "|1640793161|           13061.5| 14|\n",
      "|1650515990|            3700.0|  6|\n",
      "|1649639405|           28839.0| 23|\n",
      "|1649858595|            1062.5|  7|\n",
      "|1644343468|            9245.1| 19|\n",
      "|1640179146|           6666.94| 22|\n",
      "+----------+------------------+---+\n",
      "only showing top 20 rows\n",
      "\n"
     ]
    }
   ],
   "source": [
    "#creation of new column\n",
    "df3 = sdf.withColumn(\"new_price\", F.col(\"price\") * 2)\n",
    "#full table aggregation\n",
    "sdf.agg(F.max(\"bid\"), F.count(\"bidder\")).show()\n",
    "#per some column eg auctionid \n",
    "sdf.groupBy('auctionid').agg(F.sum('bid').alias(\"bids\"), F.count('bidder').alias('cb'))\\\n",
    "   .select(\"auctionid\",'bids', 'cb').show()"
   ]
  },
  {
   "cell_type": "code",
   "execution_count": 42,
   "metadata": {},
   "outputs": [
    {
     "data": {
      "text/plain": [
       "DataFrame[bidder_auctionid: string, 1638843936: bigint, 1638844284: bigint, 1638844464: bigint, 1638844729: bigint, 1638917885: bigint, 1639226378: bigint, 1639253454: bigint, 1639309309: bigint, 1639323228: bigint, 1639333116: bigint, 1639341131: bigint, 1639364679: bigint, 1639425502: bigint, 1639672910: bigint, 1639929579: bigint, 1639979107: bigint, 1640179146: bigint, 1640550476: bigint, 1640653873: bigint, 1640793161: bigint, 1640936328: bigint, 1641062012: bigint, 1641242797: bigint, 1641457876: bigint, 1641587440: bigint, 1641628327: bigint, 1641629836: bigint, 1641722275: bigint, 1641783552: bigint, 1641880134: bigint, 1641880908: bigint, 1642005995: bigint, 1642185637: bigint, 1642514892: bigint, 1642534283: bigint, 1642561397: bigint, 1642875447: bigint, 1642876200: bigint, 1642911743: bigint, 1643136423: bigint, 1643187764: bigint, 1643201832: bigint, 1643212361: bigint, 1643244227: bigint, 1644046945: bigint, 1644049270: bigint, 1644077790: bigint, 1644077820: bigint, 1644109746: bigint, 1644138548: bigint, 1644197869: bigint, 1644252877: bigint, 1644309984: bigint, 1644343468: bigint, 1644357387: bigint, 1644594033: bigint, 1644681469: bigint, 1644724061: bigint, 1644739924: bigint, 1644752795: bigint, 1644760539: bigint, 1645594382: bigint, 1645989170: bigint, 1646007296: bigint, 1646145109: bigint, 1646573469: bigint, 1647320738: bigint, 1647329406: bigint, 1647567213: bigint, 1647637035: bigint, 1647844282: bigint, 1647846714: bigint, 1648041601: bigint, 1648176677: bigint, 1648193761: bigint, 1648252368: bigint, 1648363974: bigint, 1648613621: bigint, 1648661746: bigint, 1649173313: bigint, 1649513497: bigint, 1649567847: bigint, 1649639405: bigint, 1649718196: bigint, 1649757877: bigint, 1649808226: bigint, 1649845539: bigint, 1649848613: bigint, 1649858595: bigint, 1649944294: bigint, 1650162165: bigint, 1650483277: bigint, 1650515990: bigint, 1650530689: bigint, 1650699048: bigint, 1650981438: bigint, 1650986455: bigint]"
      ]
     },
     "execution_count": 42,
     "metadata": {},
     "output_type": "execute_result"
    }
   ],
   "source": [
    "#stats \n",
    "sdf.summary().select('summary', 'price')  #.show()\n",
    "#crosstab\n",
    "sdf.stat.crosstab(\"bidder\", \"auctionid\")  #.show()"
   ]
  },
  {
   "cell_type": "code",
   "execution_count": 43,
   "metadata": {},
   "outputs": [],
   "source": [
    "#sql\n",
    "sdf.registerTempTable(\"auctions\")"
   ]
  },
  {
   "cell_type": "code",
   "execution_count": null,
   "metadata": {},
   "outputs": [],
   "source": []
  }
 ],
 "metadata": {
  "kernelspec": {
   "display_name": "PySpark",
   "language": "python",
   "name": "pyspark"
  },
  "language_info": {
   "codemirror_mode": {
    "name": "ipython",
    "version": 3
   },
   "file_extension": ".py",
   "mimetype": "text/x-python",
   "name": "python",
   "nbconvert_exporter": "python",
   "pygments_lexer": "ipython3",
   "version": "3.7.9"
  }
 },
 "nbformat": 4,
 "nbformat_minor": 4
}

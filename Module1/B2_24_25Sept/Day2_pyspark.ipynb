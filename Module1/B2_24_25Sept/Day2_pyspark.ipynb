{
 "cells": [
  {
   "cell_type": "code",
   "execution_count": 1,
   "metadata": {},
   "outputs": [
    {
     "name": "stdout",
     "output_type": "stream",
     "text": [
      "Available kernels:\n",
      "  pyspark        C:\\Anaconda3\\envs\\aiml\\share\\jupyter\\kernels\\PySpark\n",
      "  pysparkauto    C:\\Anaconda3\\envs\\aiml\\share\\jupyter\\kernels\\PySparkAuto\n",
      "  python3        C:\\Anaconda3\\envs\\aiml\\share\\jupyter\\kernels\\python3\n"
     ]
    }
   ],
   "source": [
    "!jupyter kernelspec list"
   ]
  },
  {
   "cell_type": "code",
   "execution_count": 3,
   "metadata": {},
   "outputs": [],
   "source": [
    "%pycat C:\\Anaconda3\\envs\\aiml\\share\\jupyter\\kernels\\PySpark\\kernel.json\n",
    "    "
   ]
  },
  {
   "cell_type": "code",
   "execution_count": 4,
   "metadata": {},
   "outputs": [],
   "source": [
    "from pyspark.sql import *\n",
    "import pyspark.sql.functions as F \n"
   ]
  },
  {
   "cell_type": "code",
   "execution_count": 5,
   "metadata": {},
   "outputs": [],
   "source": [
    "spark = SparkSession.builder.appName(\"basic\").getOrCreate()"
   ]
  },
  {
   "cell_type": "code",
   "execution_count": 6,
   "metadata": {},
   "outputs": [
    {
     "data": {
      "text/html": [
       "\n",
       "            <div>\n",
       "                <p><b>SparkSession - in-memory</b></p>\n",
       "                \n",
       "        <div>\n",
       "            <p><b>SparkContext</b></p>\n",
       "\n",
       "            <p><a href=\"http://Home-E402:4040\">Spark UI</a></p>\n",
       "\n",
       "            <dl>\n",
       "              <dt>Version</dt>\n",
       "                <dd><code>v2.4.4</code></dd>\n",
       "              <dt>Master</dt>\n",
       "                <dd><code>local[*]</code></dd>\n",
       "              <dt>AppName</dt>\n",
       "                <dd><code>basic</code></dd>\n",
       "            </dl>\n",
       "        </div>\n",
       "        \n",
       "            </div>\n",
       "        "
      ],
      "text/plain": [
       "<pyspark.sql.session.SparkSession at 0x7f12643408>"
      ]
     },
     "execution_count": 6,
     "metadata": {},
     "output_type": "execute_result"
    }
   ],
   "source": [
    "spark"
   ]
  },
  {
   "cell_type": "code",
   "execution_count": 11,
   "metadata": {},
   "outputs": [],
   "source": [
    "len(dir(DataFrame)), len(dir(Column)), len(dir(F))\n",
    "file = 'data/spark/Cartier+for+WinnersCurse.csv'\n",
    "sdf = spark.read.format('csv').option(\"header\", \"true\")\\\n",
    "                .option(\"inferSchema\", \"true\").load(file)\n",
    "sdf.show()"
   ]
  },
  {
   "cell_type": "code",
   "execution_count": 15,
   "metadata": {},
   "outputs": [
    {
     "data": {
      "text/plain": [
       "1"
      ]
     },
     "execution_count": 15,
     "metadata": {},
     "output_type": "execute_result"
    }
   ],
   "source": [
    "sdf.count()\n",
    "sdf.rdd.getNumPartitions()\n",
    "\n",
    "#ops\n",
    "sdf.columns\n",
    "sdf.dtypes\n",
    "sdf.printSchema()"
   ]
  },
  {
   "cell_type": "code",
   "execution_count": 20,
   "metadata": {},
   "outputs": [
    {
     "name": "stdout",
     "output_type": "stream",
     "text": [
      "+----------+------+-----------+-----------+----------+-------+------+\n",
      "| auctionid|   bid|    bidtime|     bidder|bidderrate|openbid| price|\n",
      "+----------+------+-----------+-----------+----------+-------+------+\n",
      "|1638843936|1500.0|5.226377315|carloss8055|         5|  500.0|1625.0|\n",
      "|1638843936|1550.0|6.892916667|carloss8055|         5|  500.0|1625.0|\n",
      "|1638843936|1625.0|6.893113426|carloss8055|         5|  500.0|1625.0|\n",
      "|1638844464| 450.0|6.736319444|  adammurry|         5|  300.0| 740.0|\n",
      "|1638844464| 500.0|6.736469907|  adammurry|         5|  300.0| 740.0|\n",
      "|1638844464| 560.0| 6.99537037|      ps138|         5|  300.0| 740.0|\n",
      "|1638844464| 700.0|6.995763889|  adammurry|         5|  300.0| 740.0|\n",
      "|1638844464| 635.0| 6.99619213|      ps138|         5|  300.0| 740.0|\n",
      "|1638844464| 660.0|6.996435185|      ps138|         5|  300.0| 740.0|\n",
      "|1638844464| 730.0|6.996851852|      ps138|         5|  300.0| 740.0|\n",
      "|1638844464| 740.0| 6.99974537|  adammurry|         5|  300.0| 740.0|\n",
      "|1638917885| 200.0|4.659236111| cberdouare|         5|   25.0| 227.5|\n",
      "|1638917885| 205.0|6.999641204|      ps138|         5|   25.0| 227.5|\n",
      "|1638917885| 225.0| 6.99994213|      ps138|         5|   25.0| 227.5|\n",
      "|1639309309| 100.0|1.689282407|      ivgen|         5|    1.0|374.99|\n",
      "|1639309309| 205.0|  3.4996875|   lass1004|         5|    1.0|374.99|\n",
      "|1639309309| 210.0|3.499895833|   lass1004|         5|    1.0|374.99|\n",
      "|1639309309| 215.0|3.500115741|   lass1004|         5|    1.0|374.99|\n",
      "|1639309309| 220.0|3.500289352|   lass1004|         5|    1.0|374.99|\n",
      "|1639309309| 225.0|3.500474537|   lass1004|         5|    1.0|374.99|\n",
      "+----------+------+-----------+-----------+----------+-------+------+\n",
      "only showing top 20 rows\n",
      "\n"
     ]
    }
   ],
   "source": [
    "#filter\n",
    "sdf.filter(\"bidderrate == 5\").show()"
   ]
  },
  {
   "cell_type": "code",
   "execution_count": null,
   "metadata": {},
   "outputs": [],
   "source": []
  }
 ],
 "metadata": {
  "kernelspec": {
   "display_name": "PySpark",
   "language": "python",
   "name": "pyspark"
  },
  "language_info": {
   "codemirror_mode": {
    "name": "ipython",
    "version": 3
   },
   "file_extension": ".py",
   "mimetype": "text/x-python",
   "name": "python",
   "nbconvert_exporter": "python",
   "pygments_lexer": "ipython3",
   "version": "3.7.9"
  }
 },
 "nbformat": 4,
 "nbformat_minor": 4
}

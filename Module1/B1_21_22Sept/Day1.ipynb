{
 "cells": [
  {
   "cell_type": "code",
   "execution_count": 1,
   "metadata": {},
   "outputs": [
    {
     "name": "stdout",
     "output_type": "stream",
     "text": [
      "Hello World\n"
     ]
    }
   ],
   "source": [
    "print(\"Hello World\")"
   ]
  },
  {
   "cell_type": "code",
   "execution_count": 2,
   "metadata": {},
   "outputs": [
    {
     "data": {
      "text/plain": [
       "4"
      ]
     },
     "execution_count": 2,
     "metadata": {},
     "output_type": "execute_result"
    }
   ],
   "source": [
    "2 + 2"
   ]
  },
  {
   "cell_type": "code",
   "execution_count": 3,
   "metadata": {},
   "outputs": [
    {
     "name": "stdout",
     "output_type": "stream",
     "text": [
      " Volume in drive D is LENOVO\n",
      " Volume Serial Number is 0299-ED51\n",
      "\n",
      " Directory of D:\\handson\\Module1\\B1_21_22Sept\n",
      "\n",
      "21-09-2020  10:56    <DIR>          .\n",
      "21-09-2020  10:56    <DIR>          ..\n",
      "21-09-2020  10:56    <DIR>          .ipynb_checkpoints\n",
      "21-09-2020  10:56               555 Day1.ipynb\n",
      "18-09-2020  06:18               115 README.md\n",
      "21-09-2020  10:56               288 Untitled.ipynb\n",
      "               3 File(s)            958 bytes\n",
      "               3 Dir(s)   5,883,273,216 bytes free\n"
     ]
    }
   ],
   "source": [
    "!dir"
   ]
  },
  {
   "cell_type": "code",
   "execution_count": 4,
   "metadata": {},
   "outputs": [
    {
     "data": {
      "application/json": {
       "cell": {
        "!": "OSMagics",
        "HTML": "Other",
        "SVG": "Other",
        "bash": "Other",
        "capture": "ExecutionMagics",
        "cmd": "Other",
        "debug": "ExecutionMagics",
        "file": "Other",
        "html": "DisplayMagics",
        "javascript": "DisplayMagics",
        "js": "DisplayMagics",
        "latex": "DisplayMagics",
        "markdown": "DisplayMagics",
        "perl": "Other",
        "prun": "ExecutionMagics",
        "pypy": "Other",
        "python": "Other",
        "python2": "Other",
        "python3": "Other",
        "ruby": "Other",
        "script": "ScriptMagics",
        "sh": "Other",
        "svg": "DisplayMagics",
        "sx": "OSMagics",
        "system": "OSMagics",
        "time": "ExecutionMagics",
        "timeit": "ExecutionMagics",
        "writefile": "OSMagics"
       },
       "line": {
        "alias": "OSMagics",
        "alias_magic": "BasicMagics",
        "autoawait": "AsyncMagics",
        "autocall": "AutoMagics",
        "automagic": "AutoMagics",
        "autosave": "KernelMagics",
        "bookmark": "OSMagics",
        "cd": "OSMagics",
        "clear": "KernelMagics",
        "cls": "KernelMagics",
        "colors": "BasicMagics",
        "conda": "PackagingMagics",
        "config": "ConfigMagics",
        "connect_info": "KernelMagics",
        "copy": "Other",
        "ddir": "Other",
        "debug": "ExecutionMagics",
        "dhist": "OSMagics",
        "dirs": "OSMagics",
        "doctest_mode": "BasicMagics",
        "echo": "Other",
        "ed": "Other",
        "edit": "KernelMagics",
        "env": "OSMagics",
        "gui": "BasicMagics",
        "hist": "Other",
        "history": "HistoryMagics",
        "killbgscripts": "ScriptMagics",
        "ldir": "Other",
        "less": "KernelMagics",
        "load": "CodeMagics",
        "load_ext": "ExtensionMagics",
        "loadpy": "CodeMagics",
        "logoff": "LoggingMagics",
        "logon": "LoggingMagics",
        "logstart": "LoggingMagics",
        "logstate": "LoggingMagics",
        "logstop": "LoggingMagics",
        "ls": "Other",
        "lsmagic": "BasicMagics",
        "macro": "ExecutionMagics",
        "magic": "BasicMagics",
        "matplotlib": "PylabMagics",
        "mkdir": "Other",
        "more": "KernelMagics",
        "notebook": "BasicMagics",
        "page": "BasicMagics",
        "pastebin": "CodeMagics",
        "pdb": "ExecutionMagics",
        "pdef": "NamespaceMagics",
        "pdoc": "NamespaceMagics",
        "pfile": "NamespaceMagics",
        "pinfo": "NamespaceMagics",
        "pinfo2": "NamespaceMagics",
        "pip": "PackagingMagics",
        "popd": "OSMagics",
        "pprint": "BasicMagics",
        "precision": "BasicMagics",
        "prun": "ExecutionMagics",
        "psearch": "NamespaceMagics",
        "psource": "NamespaceMagics",
        "pushd": "OSMagics",
        "pwd": "OSMagics",
        "pycat": "OSMagics",
        "pylab": "PylabMagics",
        "qtconsole": "KernelMagics",
        "quickref": "BasicMagics",
        "recall": "HistoryMagics",
        "rehashx": "OSMagics",
        "reload_ext": "ExtensionMagics",
        "ren": "Other",
        "rep": "Other",
        "rerun": "HistoryMagics",
        "reset": "NamespaceMagics",
        "reset_selective": "NamespaceMagics",
        "rmdir": "Other",
        "run": "ExecutionMagics",
        "save": "CodeMagics",
        "sc": "OSMagics",
        "set_env": "OSMagics",
        "store": "StoreMagics",
        "sx": "OSMagics",
        "system": "OSMagics",
        "tb": "ExecutionMagics",
        "time": "ExecutionMagics",
        "timeit": "ExecutionMagics",
        "unalias": "OSMagics",
        "unload_ext": "ExtensionMagics",
        "who": "NamespaceMagics",
        "who_ls": "NamespaceMagics",
        "whos": "NamespaceMagics",
        "xdel": "NamespaceMagics",
        "xmode": "BasicMagics"
       }
      },
      "text/plain": [
       "Available line magics:\n",
       "%alias  %alias_magic  %autoawait  %autocall  %automagic  %autosave  %bookmark  %cd  %clear  %cls  %colors  %conda  %config  %connect_info  %copy  %ddir  %debug  %dhist  %dirs  %doctest_mode  %echo  %ed  %edit  %env  %gui  %hist  %history  %killbgscripts  %ldir  %less  %load  %load_ext  %loadpy  %logoff  %logon  %logstart  %logstate  %logstop  %ls  %lsmagic  %macro  %magic  %matplotlib  %mkdir  %more  %notebook  %page  %pastebin  %pdb  %pdef  %pdoc  %pfile  %pinfo  %pinfo2  %pip  %popd  %pprint  %precision  %prun  %psearch  %psource  %pushd  %pwd  %pycat  %pylab  %qtconsole  %quickref  %recall  %rehashx  %reload_ext  %ren  %rep  %rerun  %reset  %reset_selective  %rmdir  %run  %save  %sc  %set_env  %store  %sx  %system  %tb  %time  %timeit  %unalias  %unload_ext  %who  %who_ls  %whos  %xdel  %xmode\n",
       "\n",
       "Available cell magics:\n",
       "%%!  %%HTML  %%SVG  %%bash  %%capture  %%cmd  %%debug  %%file  %%html  %%javascript  %%js  %%latex  %%markdown  %%perl  %%prun  %%pypy  %%python  %%python2  %%python3  %%ruby  %%script  %%sh  %%svg  %%sx  %%system  %%time  %%timeit  %%writefile\n",
       "\n",
       "Automagic is ON, % prefix IS NOT needed for line magics."
      ]
     },
     "execution_count": 4,
     "metadata": {},
     "output_type": "execute_result"
    }
   ],
   "source": [
    "%lsmagic"
   ]
  },
  {
   "cell_type": "code",
   "execution_count": 6,
   "metadata": {},
   "outputs": [
    {
     "data": {
      "text/plain": [
       "'D:\\\\handson\\\\Module1\\\\B1_21_22Sept'"
      ]
     },
     "execution_count": 6,
     "metadata": {},
     "output_type": "execute_result"
    }
   ],
   "source": [
    "%pwd"
   ]
  },
  {
   "cell_type": "code",
   "execution_count": 7,
   "metadata": {},
   "outputs": [
    {
     "name": "stdout",
     "output_type": "stream",
     "text": [
      "Writing test1.txt\n"
     ]
    }
   ],
   "source": [
    "%%writefile test1.txt\n",
    "Hello World!"
   ]
  },
  {
   "cell_type": "code",
   "execution_count": 8,
   "metadata": {},
   "outputs": [
    {
     "name": "stdout",
     "output_type": "stream",
     "text": [
      "Hello World!\n",
      "\n"
     ]
    }
   ],
   "source": [
    "with open(\"test1.txt\", 'r') as f:\n",
    "    print(f.read())"
   ]
  },
  {
   "cell_type": "markdown",
   "metadata": {},
   "source": [
    "# Python referesher"
   ]
  },
  {
   "cell_type": "code",
   "execution_count": 9,
   "metadata": {},
   "outputs": [],
   "source": [
    "a = 1\n",
    "f = 1.2\n",
    "b = True\n",
    "s = \"OK\"  \n",
    "s1 = 'OK' #single quote or double quote\n",
    "#s[0] = 'K' #Error as immutable \n",
    "lst = [1,2,3,4] # duplicates-P, indexing-P, Insertion ordered- P\n",
    "lst[0] = 20 #mutable\n",
    "print(lst)\n",
    "t = (1,2)\n",
    "#t[0] = 1 #Error as immutable \n",
    "st = {1,2} #duplicates-NP, indexing-NP, Insertion ordered- NP\n",
    "ed = { 'ok' : 2, 'nok': 3}"
   ]
  },
  {
   "cell_type": "code",
   "execution_count": 24,
   "metadata": {},
   "outputs": [
    {
     "name": "stdout",
     "output_type": "stream",
     "text": [
      "2 6 2 3 3\n",
      "True False True True True\n",
      "O OK 1\n",
      "[20, 2, 3, 4, 10, 'OK', 'OK'] {1.2, 1, 2, 30} {'ok': 2, 'nok': 3, 'new': [1, 2, 3]}\n"
     ]
    }
   ],
   "source": [
    "#length\n",
    "print(len(s), len(lst), len(t), len(st), len(ed))\n",
    "\n",
    "#containment checking\n",
    "print('O' in s, 1 in lst, 1 in t, 3 not in st, 'ok' in ed)\n",
    "\n",
    "#indexing\n",
    "print(s[0], lst[-1], t[0]) # NP for set, dict\n",
    "\n",
    "#adding some element \n",
    "lst.append(\"OK\")\n",
    "st.add(1.2)\n",
    "ed['new'] = [1,2,3]\n",
    "print(lst, st, ed)"
   ]
  },
  {
   "cell_type": "code",
   "execution_count": 27,
   "metadata": {},
   "outputs": [
    {
     "name": "stdout",
     "output_type": "stream",
     "text": [
      "1.2\n",
      "1\n",
      "2\n",
      "30\n",
      "20\n",
      "2\n",
      "3\n",
      "4\n",
      "10\n",
      "OK\n",
      "OK\n",
      "1.2\n",
      "1\n",
      "2\n",
      "30\n",
      "ok 2\n",
      "nok 3\n",
      "new [1, 2, 3]\n"
     ]
    }
   ],
   "source": [
    "#concatenation\n",
    "s2 = s + \" Hello\"\n",
    "lst2 = lst + [30,20]\n",
    "t2 = t + (3,4)\n",
    "#set and dict \n",
    "\n",
    "#iteration \n",
    "for e in st:\n",
    "    print(e)\n",
    "for e in lst:\n",
    "    print(e)\n",
    "for e in st:\n",
    "    print(e)\n",
    "for k in ed:\n",
    "    print(k, ed[k])"
   ]
  },
  {
   "cell_type": "code",
   "execution_count": 39,
   "metadata": {},
   "outputs": [
    {
     "name": "stdout",
     "output_type": "stream",
     "text": [
      "{'ok': [{'ok': [{'ok': [{'ok': 2, 'nok': 3}]}]}]}\n",
      "<class 'dict'>\n",
      "dict_keys(['ok'])\n",
      "{'ok': [{'ok': [{'ok': [{'ok': 20, 'nok': 3}]}]}]}\n"
     ]
    }
   ],
   "source": [
    "d = {'ok': 2, 'nok': 3}\n",
    "c = 0\n",
    "while c < 3:\n",
    "    d = {'ok': [d]}\n",
    "    c += 1\n",
    "print(d)\n",
    "\n",
    "print(type(d))\n",
    "print(d.keys())\n",
    "\n",
    "d['ok'][0]['ok'][0]['ok'][0]['ok'] = 20\n",
    "print(d)"
   ]
  },
  {
   "cell_type": "code",
   "execution_count": 40,
   "metadata": {},
   "outputs": [
    {
     "name": "stdout",
     "output_type": "stream",
     "text": [
      "{'ok': [{'ok': [{'ok': [{'nok': 3, 'ok': 20}]}]}]}\n"
     ]
    }
   ],
   "source": [
    "import pprint\n",
    "pprint.pprint(d)"
   ]
  },
  {
   "cell_type": "markdown",
   "metadata": {},
   "source": [
    "# Installing module"
   ]
  },
  {
   "cell_type": "code",
   "execution_count": 46,
   "metadata": {},
   "outputs": [
    {
     "name": "stdout",
     "output_type": "stream",
     "text": [
      "Requirement already satisfied: requests in c:\\anaconda3\\envs\\aiml\\lib\\site-packages (2.24.0)\n",
      "Requirement already satisfied: urllib3!=1.25.0,!=1.25.1,<1.26,>=1.21.1 in c:\\anaconda3\\envs\\aiml\\lib\\site-packages (from requests) (1.25.10)\n",
      "Requirement already satisfied: idna<3,>=2.5 in c:\\anaconda3\\envs\\aiml\\lib\\site-packages (from requests) (2.10)\n",
      "Requirement already satisfied: certifi>=2017.4.17 in c:\\anaconda3\\envs\\aiml\\lib\\site-packages (from requests) (2020.6.20)\n",
      "Requirement already satisfied: chardet<4,>=3.0.2 in c:\\anaconda3\\envs\\aiml\\lib\\site-packages (from requests) (3.0.4)\n"
     ]
    },
    {
     "data": {
      "text/plain": [
       "'117.195.163.19'"
      ]
     },
     "execution_count": 46,
     "metadata": {},
     "output_type": "execute_result"
    }
   ],
   "source": [
    "!pip install requests \n",
    "\n",
    "import requests\n",
    "r = requests.get(\"http://httpbin.org/get\")\n",
    "obj = r.json()\n",
    "obj['origin']"
   ]
  },
  {
   "cell_type": "code",
   "execution_count": 61,
   "metadata": {},
   "outputs": [
    {
     "name": "stdout",
     "output_type": "stream",
     "text": [
      "Overwriting mex.py\n"
     ]
    }
   ],
   "source": [
    "%%writefile mex.py\n",
    "def my_add(x,y):\n",
    "    return x-y\n",
    "\n",
    "def my_add2(x, y=20):\n",
    "    return x+y\n"
   ]
  },
  {
   "cell_type": "code",
   "execution_count": null,
   "metadata": {},
   "outputs": [],
   "source": [
    "import mex\n",
    "\n",
    "print(mex.my_add(2,3), #positional based arg passing\n",
    "mex.my_add(y=3,x=20), #keyword based arg passing\n",
    "mex.my_add(20, y=30), #constraint: positional comes first \n",
    "mex.my_add2(20),\n",
    "mex.my_add2(20,30))\n"
   ]
  },
  {
   "cell_type": "code",
   "execution_count": 63,
   "metadata": {},
   "outputs": [
    {
     "data": {
      "text/plain": [
       "<module 'mex' from 'D:\\\\handson\\\\Module1\\\\B1_21_22Sept\\\\mex.py'>"
      ]
     },
     "execution_count": 63,
     "metadata": {},
     "output_type": "execute_result"
    }
   ],
   "source": [
    "import importlib\n",
    "importlib.reload(mex)"
   ]
  },
  {
   "cell_type": "code",
   "execution_count": null,
   "metadata": {},
   "outputs": [],
   "source": [
    "help(mex1.my_add)"
   ]
  },
  {
   "cell_type": "code",
   "execution_count": 62,
   "metadata": {},
   "outputs": [
    {
     "name": "stdout",
     "output_type": "stream",
     "text": [
      "-1 17 -10 40 50\n",
      "Help on function my_add in module mex1:\n",
      "\n",
      "my_add(x, y)\n",
      "\n",
      "Help on method_descriptor:\n",
      "\n",
      "split(self, /, sep=None, maxsplit=-1)\n",
      "    Return a list of the words in the string, using sep as the delimiter string.\n",
      "    \n",
      "    sep\n",
      "      The delimiter according which to split the string.\n",
      "      None (the default value) means split according to any whitespace,\n",
      "      and discard empty strings from the result.\n",
      "    maxsplit\n",
      "      Maximum number of splits to do.\n",
      "      -1 (the default value) means no limit.\n",
      "\n"
     ]
    }
   ],
   "source": [
    "dir(str)\n",
    "help(str.split)"
   ]
  },
  {
   "cell_type": "markdown",
   "metadata": {},
   "source": [
    "# numpy introduction"
   ]
  },
  {
   "cell_type": "code",
   "execution_count": 64,
   "metadata": {},
   "outputs": [],
   "source": [
    "import random\n",
    "import numpy as np"
   ]
  },
  {
   "cell_type": "code",
   "execution_count": 65,
   "metadata": {},
   "outputs": [],
   "source": [
    "#create\n",
    "n = 10000\n",
    "x = [random.random() for _ in range(n)]\n",
    "y = []\n",
    "for _ in range(n):\n",
    "    y.append(random.random())\n",
    "\n",
    "#check\n",
    "x[:3], y[0:3] #slicing start:end:step\n",
    "\n",
    "z = [x[i] + y[i] for i in range(n)]\n",
    "z[:3]\n",
    "\n",
    "%timeit [x[i] + y[i] for i in range(n)]"
   ]
  },
  {
   "cell_type": "code",
   "execution_count": 70,
   "metadata": {},
   "outputs": [],
   "source": [
    "#numpy\n",
    "xa = np.array(x)\n",
    "ya = np.array(y)\n",
    "z = xa + ya \n",
    "z[:3]\n",
    "%timeit xa + ya"
   ]
  },
  {
   "cell_type": "code",
   "execution_count": 74,
   "metadata": {},
   "outputs": [],
   "source": [
    "#create\n",
    "x = np.array([1,2,3])\n",
    "y = np.linspace(2.0, 3.0, num=3)\n",
    "z = np.arange(12).reshape(2,6)\n",
    "ru = np.random.random( (2,6) )\n",
    "rn = np.random.normal(0,1 , (6,4)) #mu, sigma "
   ]
  },
  {
   "cell_type": "code",
   "execution_count": 80,
   "metadata": {},
   "outputs": [
    {
     "data": {
      "text/plain": [
       "array([15, 51])"
      ]
     },
     "execution_count": 80,
     "metadata": {},
     "output_type": "execute_result"
    }
   ],
   "source": [
    "z\n",
    "z.ndim, z.shape # mostly - rowise = axis=1, colwise , axis=0\n",
    "np.sum(z, axis=0) #axis=0, columnwise\n",
    "np.sum(z, axis=1) #axis=1, rowwise sum "
   ]
  },
  {
   "cell_type": "code",
   "execution_count": 81,
   "metadata": {},
   "outputs": [
    {
     "name": "stdout",
     "output_type": "stream",
     "text": [
      "# of methds in numpy 620 # of methods in np.random 81\n"
     ]
    }
   ],
   "source": [
    "print(\"# of methods in numpy\", len(dir(np)), \"# of methods in np.random\", len(dir(np.random)))"
   ]
  },
  {
   "cell_type": "code",
   "execution_count": 82,
   "metadata": {},
   "outputs": [],
   "source": [
    "z1 = np.arange(50).reshape( 5,5,2)\n",
    "\n",
    "np.arange(50).shape"
   ]
  },
  {
   "cell_type": "code",
   "execution_count": 87,
   "metadata": {},
   "outputs": [
    {
     "name": "stdout",
     "output_type": "stream",
     "text": [
      "[1 2 3]\n"
     ]
    }
   ],
   "source": [
    "#Accessing numpy\n",
    "x[0]\n",
    "x[0] = 1\n",
    "print(x)\n",
    "#2D accesing\n",
    "z[0,0]\n",
    "z[0,0] = 2\n",
    "z[: , 0:2] #sub array syntax \n",
    "z[z>2] #boolean accessing syntax \n",
    "z[ (z>2) & (z<4)] # & | not "
   ]
  },
  {
   "cell_type": "code",
   "execution_count": 93,
   "metadata": {},
   "outputs": [
    {
     "data": {
      "text/plain": [
       "array([2, 1, 2, 3, 4, 5])"
      ]
     },
     "execution_count": 93,
     "metadata": {},
     "output_type": "execute_result"
    }
   ],
   "source": [
    "#how do you print first row, all columns?\n",
    "z[0, :]"
   ]
  },
  {
   "cell_type": "code",
   "execution_count": 96,
   "metadata": {},
   "outputs": [
    {
     "data": {
      "text/plain": [
       "array([[2. ],\n",
       "       [2.5],\n",
       "       [3. ]])"
      ]
     },
     "execution_count": 96,
     "metadata": {},
     "output_type": "execute_result"
    }
   ],
   "source": [
    "#How to introduce dummy dimension\n",
    "y.reshape(1,3)\n",
    "y.reshape(3,1)\n",
    "\n",
    "y[:, None], y[None, :]"
   ]
  },
  {
   "cell_type": "code",
   "execution_count": 99,
   "metadata": {},
   "outputs": [
    {
     "name": "stdout",
     "output_type": "stream",
     "text": [
      "[[  4   1   4   9  16  25]\n",
      " [ 36  49  64  81 100 121]]\n"
     ]
    }
   ],
   "source": [
    "#Operations \n",
    "y1 = y.reshape(3,1)\n",
    "\n",
    "xx = x - x \n",
    "zz = z * z\n",
    "print(zz)"
   ]
  },
  {
   "cell_type": "code",
   "execution_count": 104,
   "metadata": {},
   "outputs": [
    {
     "name": "stdout",
     "output_type": "stream",
     "text": [
      "[[4.  4.5 5. ]\n",
      " [4.5 5.  5.5]\n",
      " [5.  5.5 6. ]]\n"
     ]
    }
   ],
   "source": [
    "y.shape, y1.shape\n",
    "yy = y + y1 #np.tile(y, (3,1)) + np.tile(y1, (1,3))\n",
    "print(yy) "
   ]
  },
  {
   "cell_type": "code",
   "execution_count": 111,
   "metadata": {},
   "outputs": [
    {
     "data": {
      "text/plain": [
       "array([[ 1,  2,  3],\n",
       "       [20, 30, 40]])"
      ]
     },
     "execution_count": 111,
     "metadata": {},
     "output_type": "execute_result"
    }
   ],
   "source": [
    "#Stacking\n",
    "a = np.array([1,2,3])\n",
    "b = np.array([20,30,40])\n",
    "np.vstack( (a,b))"
   ]
  },
  {
   "cell_type": "code",
   "execution_count": 112,
   "metadata": {},
   "outputs": [
    {
     "data": {
      "text/plain": [
       "array([ 1,  2,  3, 20, 30, 40])"
      ]
     },
     "execution_count": 112,
     "metadata": {},
     "output_type": "execute_result"
    }
   ],
   "source": [
    "np.hstack( (a,b) )"
   ]
  },
  {
   "cell_type": "code",
   "execution_count": 113,
   "metadata": {},
   "outputs": [
    {
     "data": {
      "text/plain": [
       "array([[ 1, 20],\n",
       "       [ 2, 30],\n",
       "       [ 3, 40]])"
      ]
     },
     "execution_count": 113,
     "metadata": {},
     "output_type": "execute_result"
    }
   ],
   "source": [
    "np.c_[a,b]"
   ]
  },
  {
   "cell_type": "code",
   "execution_count": 114,
   "metadata": {},
   "outputs": [
    {
     "name": "stderr",
     "output_type": "stream",
     "text": [
      "Matplotlib is building the font cache; this may take a moment.\n"
     ]
    },
    {
     "name": "stdout",
     "output_type": "stream",
     "text": [
      " \n",
      "ndarray.sort([axis, kind, order]) \t\t\t\t\n",
      "    Sort an array, in-place. \n",
      "\n",
      "\n",
      "sort along the last axis, ie axis=1 for 2D, rowwise \n",
      "a=\n",
      "[[1 4]\n",
      " [3 1]]\n",
      "np.sort(a) =\n",
      "[[1 4]\n",
      " [1 3]]\n",
      "sort the flattened array\n",
      "a=\n",
      "[[1 4]\n",
      " [3 1]]\n",
      "np.sort(a, axis=None) =\n",
      "[1 1 3 4]\n",
      "sort along the first axis/ columnwise \n",
      "a=\n",
      "[[1 4]\n",
      " [3 1]]\n",
      "np.sort(a, axis=0) =\n",
      "[[1 1]\n",
      " [3 4]]\n",
      "\n",
      "ndarray.max(axis=None, out=None, keepdims=False)\n",
      "ndarray.min(axis=None, out=None, keepdims=False)\n",
      "    Return the maximum/minimum along a given axis.\n",
      "    equivalent to numpy.amax, numpy.amin \n",
      "numpy.amax, amin(a, axis=None, out=None, keepdims=<class 'numpy._globals._NoValue'>)\n",
      "    Return the maximum/minimum of an array or maximum along an axis.\n",
      "\n",
      "Minimum of the flattened array\n",
      "a=\n",
      "[[0 1]\n",
      " [2 3]]\n",
      "np.amin(a)  =\n",
      "0\n",
      "Minima along the first axis(columnwise)\n",
      "a=\n",
      "[[0 1]\n",
      " [2 3]]\n",
      "np.amin(a, axis=0) =\n",
      "[0 1]\n",
      "Minima along the second axis(rowwise)\n",
      "a=\n",
      "[[0 1]\n",
      " [2 3]]\n",
      "np.amin(a, axis=1) =\n",
      "[0 2]\n",
      "\n",
      "delete(arr, obj[, axis]) \t\n",
      "    Return a new array with sub-arrays along an axis deleted.\n",
      "\n",
      "axis =0, row delete, 1=means which subarray to delete \n",
      "a=\n",
      "[[ 1  2  3  4]\n",
      " [ 5  6  7  8]\n",
      " [ 9 10 11 12]]\n",
      "np.delete(a, 1, axis=0) =\n",
      "[[ 1  2  3  4]\n",
      " [ 9 10 11 12]]\n",
      "\n",
      "insert(arr, obj, values[, axis]) \t\n",
      "    Insert values along the given axis before the given indices.\n",
      "\n",
      "axis=1, insert column, before 1, value 5 \n",
      "a=\n",
      "[[1 1]\n",
      " [2 2]\n",
      " [3 3]]\n",
      "np.insert(a, 1, 5, axis=1) =\n",
      "[[1 5 1]\n",
      " [2 5 2]\n",
      " [3 5 3]]\n",
      "\n",
      "append(arr, values[, axis]) \t\n",
      "    Append values to the end of an array.\n",
      "\n",
      "append\n",
      "a=\n",
      "[1 2 3]\n",
      "b=\n",
      "[[4 5 6]\n",
      " [7 8 9]]\n",
      "np.append(a, b) =\n",
      "[1 2 3 4 5 6 7 8 9]\n",
      "axis=0 , row append \n",
      "a=\n",
      "[[1 2 3]\n",
      " [4 5 6]]\n",
      "b=\n",
      "[[7 8 9]]\n",
      "np.append(a, b, axis=0)=\n",
      "[[1 2 3]\n",
      " [4 5 6]\n",
      " [7 8 9]]\n"
     ]
    }
   ],
   "source": [
    "%run demo_code/0.1.numpy_operations.py"
   ]
  },
  {
   "cell_type": "markdown",
   "metadata": {},
   "source": [
    "## HandsOn\n",
    "Compute ```y = 1-sin(x)/x```  for x = -20, ... +20 (take 1000 data points)"
   ]
  },
  {
   "cell_type": "code",
   "execution_count": 118,
   "metadata": {},
   "outputs": [],
   "source": [
    "x = np.linspace(-20.0 , 20.0, 1000)\n",
    "def f(x):\n",
    "    return 1 - np.sin(x)/x  #np.info(np.sin)\n",
    "\n",
    "y = f(x)"
   ]
  },
  {
   "cell_type": "code",
   "execution_count": 126,
   "metadata": {},
   "outputs": [
    {
     "name": "stdout",
     "output_type": "stream",
     "text": [
      "250\n"
     ]
    },
    {
     "data": {
      "image/png": "[encoded data removed]",
      "text/plain": [
       "<Figure size 360x360 with 1 Axes>"
      ]
     },
     "metadata": {
      "needs_background": "light"
     },
     "output_type": "display_data"
    }
   ],
   "source": [
    "import matplotlib.pyplot as plt\n",
    "%matplotlib inline\n",
    "\n",
    "fig, ax = plt.subplots(1,1,figsize=(5,5)) #rows x cols\n",
    "ax.plot(x,y)\n",
    "print(len(dir(plt))) # no of methods\n",
    "fig.savefig(\"first.png\")"
   ]
  },
  {
   "cell_type": "code",
   "execution_count": 130,
   "metadata": {},
   "outputs": [
    {
     "name": "stderr",
     "output_type": "stream",
     "text": [
      "C:\\Anaconda3\\envs\\aiml\\lib\\site-packages\\ipykernel_launcher.py:3: RuntimeWarning: invalid value encountered in true_divide\n",
      "  This is separate from the ipykernel package so we can avoid doing imports until\n"
     ]
    },
    {
     "data": {
      "text/plain": [
       "array([nan])"
      ]
     },
     "execution_count": 130,
     "metadata": {},
     "output_type": "execute_result"
    }
   ],
   "source": [
    "x0 = np.array([0])\n",
    "f(x0) == np."
   ]
  },
  {
   "cell_type": "code",
   "execution_count": 129,
   "metadata": {},
   "outputs": [
    {
     "data": {
      "text/plain": [
       "True"
      ]
     },
     "execution_count": 129,
     "metadata": {},
     "output_type": "execute_result"
    }
   ],
   "source": [
    "abs(0.1 + 0.1 + 0.1 - 0.3) < 1e-10"
   ]
  },
  {
   "cell_type": "code",
   "execution_count": null,
   "metadata": {},
   "outputs": [],
   "source": []
  }
 ],
 "metadata": {
  "kernelspec": {
   "display_name": "Python 3",
   "language": "python",
   "name": "python3"
  },
  "language_info": {
   "codemirror_mode": {
    "name": "ipython",
    "version": 3
   },
   "file_extension": ".py",
   "mimetype": "text/x-python",
   "name": "python",
   "nbconvert_exporter": "python",
   "pygments_lexer": "ipython3",
   "version": "3.7.9"
  }
 },
 "nbformat": 4,
 "nbformat_minor": 4
}

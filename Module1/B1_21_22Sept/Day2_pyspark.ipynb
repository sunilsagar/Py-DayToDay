{
 "cells": [
  {
   "cell_type": "markdown",
   "metadata": {},
   "source": [
    "# IMP: STEPS to be followed \n",
    "\n",
    "https://github.com/ndas1971/ScalaQs/blob/master/winutils.exe\n",
    "\n",
    "delete in windows file exploler d:\\tmp\n",
    "\n",
    "mkdir d:\\tmp\n",
    "\n",
    "cd d:\\tmp\n",
    "\n",
    "mkdir hive\n",
    "\n",
    "winutils.exe chmod -R 777 D:/tmp\n",
    "\n",
    "\n",
    "Then Use commandline\n",
    "\n",
    "d:>handson\\pyspark"
   ]
  },
  {
   "cell_type": "code",
   "execution_count": 3,
   "metadata": {},
   "outputs": [
    {
     "data": {
      "text/html": [
       "\n",
       "            <div>\n",
       "                <p><b>SparkSession - hive</b></p>\n",
       "                \n",
       "        <div>\n",
       "            <p><b>SparkContext</b></p>\n",
       "\n",
       "            <p><a href=\"http://Home-E402:4040\">Spark UI</a></p>\n",
       "\n",
       "            <dl>\n",
       "              <dt>Version</dt>\n",
       "                <dd><code>v2.4.4</code></dd>\n",
       "              <dt>Master</dt>\n",
       "                <dd><code>local[*]</code></dd>\n",
       "              <dt>AppName</dt>\n",
       "                <dd><code>pyspark-shell</code></dd>\n",
       "            </dl>\n",
       "        </div>\n",
       "        \n",
       "            </div>\n",
       "        "
      ],
      "text/plain": [
       "<pyspark.sql.session.SparkSession at 0x5b4a0c7748>"
      ]
     },
     "execution_count": 3,
     "metadata": {},
     "output_type": "execute_result"
    }
   ],
   "source": [
    "spark"
   ]
  },
  {
   "cell_type": "code",
   "execution_count": 2,
   "metadata": {},
   "outputs": [
    {
     "data": {
      "text/plain": [
       "[('spark.driver.port', '15042'),\n",
       " ('spark.sql.catalogImplementation', 'hive'),\n",
       " ('spark.rdd.compress', 'True'),\n",
       " ('spark.serializer.objectStreamReset', '100'),\n",
       " ('spark.master', 'local[*]'),\n",
       " ('spark.executor.id', 'driver'),\n",
       " ('spark.submit.deployMode', 'client'),\n",
       " ('spark.driver.host', 'Home-E402'),\n",
       " ('spark.app.id', 'local-1600766044966'),\n",
       " ('spark.ui.showConsoleProgress', 'true'),\n",
       " ('spark.app.name', 'pyspark-shell')]"
      ]
     },
     "execution_count": 2,
     "metadata": {},
     "output_type": "execute_result"
    }
   ],
   "source": [
    "spark.sparkContext.getConf().getAll()"
   ]
  },
  {
   "cell_type": "code",
   "execution_count": 4,
   "metadata": {},
   "outputs": [],
   "source": [
    "from pyspark.sql import *\n",
    "import pyspark.sql.functions as F\n",
    "\n",
    "file = 'data/spark/Cartier+for+WinnersCurse.csv'\n",
    "acs = spark.read.format('csv').option('header', 'true')\\\n",
    "        .option('inferSchema', 'true').load(file)\n",
    "\n",
    "acs.show()\n",
    "print(len(dir(acs)), len(dir(F)), len(dir(F.col(\"bidder\"))))"
   ]
  },
  {
   "cell_type": "code",
   "execution_count": 10,
   "metadata": {},
   "outputs": [
    {
     "name": "stdout",
     "output_type": "stream",
     "text": [
      "root\n",
      " |-- auctionid: integer (nullable = true)\n",
      " |-- bid: double (nullable = true)\n",
      " |-- bidtime: double (nullable = true)\n",
      " |-- bidder: string (nullable = true)\n",
      " |-- bidderrate: integer (nullable = true)\n",
      " |-- openbid: double (nullable = true)\n",
      " |-- price: double (nullable = true)\n",
      "\n"
     ]
    }
   ],
   "source": [
    "#basic \n",
    "acs.columns\n",
    "acs.dtypes\n",
    "acs.printSchema()"
   ]
  },
  {
   "cell_type": "code",
   "execution_count": 19,
   "metadata": {},
   "outputs": [
    {
     "name": "stdout",
     "output_type": "stream",
     "text": [
      "+----------+--------------------+\n",
      "| auctionid|              bidder|\n",
      "+----------+--------------------+\n",
      "|1638843936|           kona-java|\n",
      "|1638843936|              doc213|\n",
      "|1638843936|         carloss8055|\n",
      "|1638843936|         carloss8055|\n",
      "|1638843936|         carloss8055|\n",
      "|1638844284|   dre_313@yahoo.com|\n",
      "|1638844284|           njbirdmom|\n",
      "|1638844464|           19750926o|\n",
      "|1638844464|            coharley|\n",
      "|1638844464|           19750926o|\n",
      "|1638844464|           19750926o|\n",
      "|1638844464|           19750926o|\n",
      "|1638844464|           19750926o|\n",
      "|1638844464|           19750926o|\n",
      "|1638844729|k.s.cohen@verizon...|\n",
      "|1638844729|k.s.cohen@verizon...|\n",
      "|1638844729|k.s.cohen@verizon...|\n",
      "|1638844729|k.s.cohen@verizon...|\n",
      "|1638844729|k.s.cohen@verizon...|\n",
      "|1638844729|k.s.cohen@verizon...|\n",
      "+----------+--------------------+\n",
      "only showing top 20 rows\n",
      "\n"
     ]
    }
   ],
   "source": [
    "#Note .show() or .collect() is must to either display or collect the data in driver\n",
    "#filter based whether bidder contains 'o'\n",
    "acs.filter(F.col(\"bidder\").contains('o'))\n",
    "#OR \n",
    "acs.filter(acs.bidder.contains('o'))\n",
    "#OR\n",
    "acs.filter(acs['bidder'].contains('o'))\n",
    "\n",
    "#Select few columns \n",
    "acs.filter(acs['bidder'].contains('o'))\\\n",
    "   .select(\"auctionid\", \"bidder\").show()"
   ]
  },
  {
   "cell_type": "code",
   "execution_count": 28,
   "metadata": {},
   "outputs": [
    {
     "data": {
      "text/html": [
       "<div>\n",
       "<style scoped>\n",
       "    .dataframe tbody tr th:only-of-type {\n",
       "        vertical-align: middle;\n",
       "    }\n",
       "\n",
       "    .dataframe tbody tr th {\n",
       "        vertical-align: top;\n",
       "    }\n",
       "\n",
       "    .dataframe thead th {\n",
       "        text-align: right;\n",
       "    }\n",
       "</style>\n",
       "<table border=\"1\" class=\"dataframe\">\n",
       "  <thead>\n",
       "    <tr style=\"text-align: right;\">\n",
       "      <th></th>\n",
       "      <th>auctionid</th>\n",
       "      <th>mb</th>\n",
       "      <th>cb</th>\n",
       "    </tr>\n",
       "  </thead>\n",
       "  <tbody>\n",
       "    <tr>\n",
       "      <th>0</th>\n",
       "      <td>1642005995</td>\n",
       "      <td>623.26</td>\n",
       "      <td>18</td>\n",
       "    </tr>\n",
       "    <tr>\n",
       "      <th>1</th>\n",
       "      <td>1647320738</td>\n",
       "      <td>452.87</td>\n",
       "      <td>12</td>\n",
       "    </tr>\n",
       "    <tr>\n",
       "      <th>2</th>\n",
       "      <td>1647567213</td>\n",
       "      <td>1525.00</td>\n",
       "      <td>2</td>\n",
       "    </tr>\n",
       "    <tr>\n",
       "      <th>3</th>\n",
       "      <td>1643201832</td>\n",
       "      <td>1599.00</td>\n",
       "      <td>4</td>\n",
       "    </tr>\n",
       "    <tr>\n",
       "      <th>4</th>\n",
       "      <td>1644724061</td>\n",
       "      <td>305.00</td>\n",
       "      <td>14</td>\n",
       "    </tr>\n",
       "    <tr>\n",
       "      <th>...</th>\n",
       "      <td>...</td>\n",
       "      <td>...</td>\n",
       "      <td>...</td>\n",
       "    </tr>\n",
       "    <tr>\n",
       "      <th>92</th>\n",
       "      <td>1638844729</td>\n",
       "      <td>320.00</td>\n",
       "      <td>11</td>\n",
       "    </tr>\n",
       "    <tr>\n",
       "      <th>93</th>\n",
       "      <td>1649567847</td>\n",
       "      <td>2325.00</td>\n",
       "      <td>16</td>\n",
       "    </tr>\n",
       "    <tr>\n",
       "      <th>94</th>\n",
       "      <td>1646007296</td>\n",
       "      <td>113.50</td>\n",
       "      <td>4</td>\n",
       "    </tr>\n",
       "    <tr>\n",
       "      <th>95</th>\n",
       "      <td>1638917885</td>\n",
       "      <td>227.50</td>\n",
       "      <td>13</td>\n",
       "    </tr>\n",
       "    <tr>\n",
       "      <th>96</th>\n",
       "      <td>1644739924</td>\n",
       "      <td>455.00</td>\n",
       "      <td>18</td>\n",
       "    </tr>\n",
       "  </tbody>\n",
       "</table>\n",
       "<p>97 rows × 3 columns</p>\n",
       "</div>"
      ],
      "text/plain": [
       "     auctionid       mb  cb\n",
       "0   1642005995   623.26  18\n",
       "1   1647320738   452.87  12\n",
       "2   1647567213  1525.00   2\n",
       "3   1643201832  1599.00   4\n",
       "4   1644724061   305.00  14\n",
       "..         ...      ...  ..\n",
       "92  1638844729   320.00  11\n",
       "93  1649567847  2325.00  16\n",
       "94  1646007296   113.50   4\n",
       "95  1638917885   227.50  13\n",
       "96  1644739924   455.00  18\n",
       "\n",
       "[97 rows x 3 columns]"
      ]
     },
     "execution_count": 28,
     "metadata": {},
     "output_type": "execute_result"
    }
   ],
   "source": [
    "acs.select(\"auctionid\", 'bid').where(\"bid >= 1000\")\n",
    "#Create a new column \n",
    "df3 = acs.withColumn(\"new_price\", F.col(\"price\")* 2)\n",
    "#df3.show()\n",
    "\n",
    "#aggregations for full table\n",
    "acs.agg(F.max('bid'), F.count('bidder')) #.show()\n",
    "#per auctionId \n",
    "df4 = acs.groupBy('auctionid').agg(F.max('bid').alias(\"mb\"), F.count('bidder').alias(\"cb\"))\\\n",
    "                    .select(\"auctionid\", \"mb\", \"cb\")\n",
    "df4.toPandas()"
   ]
  },
  {
   "cell_type": "code",
   "execution_count": null,
   "metadata": {},
   "outputs": [],
   "source": []
  }
 ],
 "metadata": {
  "kernelspec": {
   "display_name": "PySparkAuto",
   "language": "python",
   "name": "pysparkauto"
  },
  "language_info": {
   "codemirror_mode": {
    "name": "ipython",
    "version": 3
   },
   "file_extension": ".py",
   "mimetype": "text/x-python",
   "name": "python",
   "nbconvert_exporter": "python",
   "pygments_lexer": "ipython3",
   "version": "3.7.9"
  }
 },
 "nbformat": 4,
 "nbformat_minor": 4
}

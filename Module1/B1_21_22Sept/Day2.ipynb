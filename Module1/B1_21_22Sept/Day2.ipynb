{
 "cells": [
  {
   "cell_type": "markdown",
   "metadata": {},
   "source": [
    "**Daily attendance of bike tracks**\n",
    "\n",
    "*every row contains the number of bicycles on every track of the city(montreal), \n",
    "for every day of the year*\n",
    "\n",
    "url = \"https://raw.githubusercontent.com/ndas1971/Misc/master/bikes.csv\"\n",
    "\n",
    "1. Read \n",
    "2. Check head \n",
    "3. Check summary statistics \n",
    "4. plot the daily attendance of two tracks, 'Berri1', 'PierDup'\n",
    "5. Check index , explore weekday attributes \n",
    "6. Get sum of all attendance as a function of the weekday\n",
    "7. Display this in figure , what is the inference?"
   ]
  },
  {
   "cell_type": "code",
   "execution_count": 1,
   "metadata": {},
   "outputs": [],
   "source": [
    "import pandas as pd\n",
    "import numpy as np\n",
    "import matplotlib.pyplot as plt\n",
    "%matplotlib inline"
   ]
  },
  {
   "cell_type": "code",
   "execution_count": 2,
   "metadata": {},
   "outputs": [],
   "source": [
    "url = \"https://raw.githubusercontent.com/ndas1971/Misc/master/bikes.csv\"\n",
    "df = pd.read_csv(url, index_col='Date', parse_dates=True, dayfirst=True)"
   ]
  },
  {
   "cell_type": "code",
   "execution_count": null,
   "metadata": {},
   "outputs": [],
   "source": []
  }
 ],
 "metadata": {
  "kernelspec": {
   "display_name": "Python 3",
   "language": "python",
   "name": "python3"
  },
  "language_info": {
   "codemirror_mode": {
    "name": "ipython",
    "version": 3
   },
   "file_extension": ".py",
   "mimetype": "text/x-python",
   "name": "python",
   "nbconvert_exporter": "python",
   "pygments_lexer": "ipython3",
   "version": "3.7.9"
  }
 },
 "nbformat": 4,
 "nbformat_minor": 4
}

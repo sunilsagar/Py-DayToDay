{
 "cells": [
  {
   "cell_type": "code",
   "execution_count": 1,
   "metadata": {},
   "outputs": [
    {
     "name": "stdout",
     "output_type": "stream",
     "text": [
      "Available kernels:\n",
      "  pyspark        C:\\Anaconda3\\envs\\aiml\\share\\jupyter\\kernels\\PySpark\n",
      "  pysparkauto    C:\\Anaconda3\\envs\\aiml\\share\\jupyter\\kernels\\PySparkAuto\n",
      "  python3        C:\\Anaconda3\\envs\\aiml\\share\\jupyter\\kernels\\python3\n"
     ]
    }
   ],
   "source": [
    "!jupyter kernelspec list"
   ]
  },
  {
   "cell_type": "code",
   "execution_count": 3,
   "metadata": {},
   "outputs": [],
   "source": [
    "%pycat C:\\Anaconda3\\envs\\aiml\\share\\jupyter\\kernels\\PySpark\\kernel.json\n",
    "    "
   ]
  },
  {
   "cell_type": "code",
   "execution_count": 4,
   "metadata": {},
   "outputs": [],
   "source": [
    "from pyspark.sql import *\n",
    "import pyspark.sql.functions as F \n"
   ]
  },
  {
   "cell_type": "code",
   "execution_count": 5,
   "metadata": {},
   "outputs": [],
   "source": [
    "spark = SparkSession.builder.appName(\"basic\").getOrCreate()"
   ]
  },
  {
   "cell_type": "code",
   "execution_count": 6,
   "metadata": {},
   "outputs": [
    {
     "data": {
      "text/html": [
       "\n",
       "            <div>\n",
       "                <p><b>SparkSession - in-memory</b></p>\n",
       "                \n",
       "        <div>\n",
       "            <p><b>SparkContext</b></p>\n",
       "\n",
       "            <p><a href=\"http://Home-E402:4040\">Spark UI</a></p>\n",
       "\n",
       "            <dl>\n",
       "              <dt>Version</dt>\n",
       "                <dd><code>v2.4.4</code></dd>\n",
       "              <dt>Master</dt>\n",
       "                <dd><code>local[*]</code></dd>\n",
       "              <dt>AppName</dt>\n",
       "                <dd><code>basic</code></dd>\n",
       "            </dl>\n",
       "        </div>\n",
       "        \n",
       "            </div>\n",
       "        "
      ],
      "text/plain": [
       "<pyspark.sql.session.SparkSession at 0x7f12643408>"
      ]
     },
     "execution_count": 6,
     "metadata": {},
     "output_type": "execute_result"
    }
   ],
   "source": [
    "spark"
   ]
  },
  {
   "cell_type": "code",
   "execution_count": 11,
   "metadata": {},
   "outputs": [],
   "source": [
    "len(dir(DataFrame)), len(dir(Column)), len(dir(F))\n",
    "file = 'data/spark/Cartier+for+WinnersCurse.csv'\n",
    "sdf = spark.read.format('csv').option(\"header\", \"true\")\\\n",
    "                .option(\"inferSchema\", \"true\").load(file)"
   ]
  },
  {
   "cell_type": "code",
   "execution_count": 13,
   "metadata": {},
   "outputs": [
    {
     "name": "stdout",
     "output_type": "stream",
     "text": [
      "+----------+------+-----------+-----------------+----------+-------+------+\n",
      "| auctionid|   bid|    bidtime|           bidder|bidderrate|openbid| price|\n",
      "+----------+------+-----------+-----------------+----------+-------+------+\n",
      "|1638843936| 500.0|0.478368056|        kona-java|       181|  500.0|1625.0|\n",
      "|1638843936| 800.0|0.826388889|           doc213|        60|  500.0|1625.0|\n",
      "|1638843936| 600.0|3.761122685|             zmxu|         7|  500.0|1625.0|\n",
      "|1638843936|1500.0|5.226377315|      carloss8055|         5|  500.0|1625.0|\n",
      "|1638843936|1600.0|   6.570625|          jdrinaz|         6|  500.0|1625.0|\n",
      "|1638843936|1550.0|6.892916667|      carloss8055|         5|  500.0|1625.0|\n",
      "|1638843936|1625.0|6.893113426|      carloss8055|         5|  500.0|1625.0|\n",
      "|1638844284| 225.0|1.237418982|dre_313@yahoo.com|         0|  200.0| 500.0|\n",
      "|1638844284| 500.0|1.252407407|        njbirdmom|        33|  200.0| 500.0|\n",
      "|1638844464| 300.0|1.811134259|          aprefer|        58|  300.0| 740.0|\n",
      "|1638844464| 305.0|3.212673611|        19750926o|         3|  300.0| 740.0|\n",
      "|1638844464| 450.0|4.165798611|         coharley|        30|  300.0| 740.0|\n",
      "|1638844464| 450.0|6.736319444|        adammurry|         5|  300.0| 740.0|\n",
      "|1638844464| 500.0|6.736469907|        adammurry|         5|  300.0| 740.0|\n",
      "|1638844464|505.78|6.988194444|        19750926o|         3|  300.0| 740.0|\n",
      "|1638844464| 551.0|6.989652778|        19750926o|         3|  300.0| 740.0|\n",
      "|1638844464| 570.0|6.993148148|        19750926o|         3|  300.0| 740.0|\n",
      "|1638844464| 601.0|6.993900463|        19750926o|         3|  300.0| 740.0|\n",
      "|1638844464| 610.0|6.994965278|        19750926o|         3|  300.0| 740.0|\n",
      "|1638844464| 560.0| 6.99537037|            ps138|         5|  300.0| 740.0|\n",
      "+----------+------+-----------+-----------------+----------+-------+------+\n",
      "only showing top 20 rows\n",
      "\n"
     ]
    },
    {
     "data": {
      "text/plain": [
       "1348"
      ]
     },
     "execution_count": 13,
     "metadata": {},
     "output_type": "execute_result"
    }
   ],
   "source": [
    "sdf.show()\n",
    "sdf.count()"
   ]
  },
  {
   "cell_type": "code",
   "execution_count": null,
   "metadata": {},
   "outputs": [],
   "source": []
  }
 ],
 "metadata": {
  "kernelspec": {
   "display_name": "PySpark",
   "language": "python",
   "name": "pyspark"
  },
  "language_info": {
   "codemirror_mode": {
    "name": "ipython",
    "version": 3
   },
   "file_extension": ".py",
   "mimetype": "text/x-python",
   "name": "python",
   "nbconvert_exporter": "python",
   "pygments_lexer": "ipython3",
   "version": "3.7.9"
  }
 },
 "nbformat": 4,
 "nbformat_minor": 4
}

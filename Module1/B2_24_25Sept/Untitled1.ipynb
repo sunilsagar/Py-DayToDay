{
 "cells": [
  {
   "cell_type": "code",
   "execution_count": null,
   "metadata": {},
   "outputs": [],
   "source": [
    "from pyspark import *\n",
    "from pyspark.rdd import *\n",
    "from pyspark.sql import *\n",
    "import pyspark.sql.functions  as F\n",
    "from pyspark.sql.types  import *\n",
    "\n",
    "\n",
    "spark = SparkSession.builder.appName(\"basic\").getOrCreate()\n"
   ]
  },
  {
   "cell_type": "code",
   "execution_count": null,
   "metadata": {},
   "outputs": [],
   "source": [
    "auctions = spark.read.format(\"csv\").option(\"header\",\"true\"). \\\n",
    "  option(\"inferSchema\",\"true\").load(\"data/spark/Cartier+for+WinnersCurse.csv\")\n",
    "\n",
    "auctions.registerTempTable(\"auctions\")\n",
    "another_df = spark.sql(\"select count(*) as count from auctions\")\n",
    "\n",
    "#UDF \n",
    "slen = F.udf(lambda s: len(s), IntegerType())\n",
    "spark.udf.register(\"slen\", slen)     #To use it in sql query must register\n",
    "spark.sql(\"SELECT slen(bidder) as len from auctions\").collect()"
   ]
  }
 ],
 "metadata": {
  "kernelspec": {
   "display_name": "PySpark",
   "language": "python",
   "name": "pyspark"
  },
  "language_info": {
   "codemirror_mode": {
    "name": "ipython",
    "version": 3
   },
   "file_extension": ".py",
   "mimetype": "text/x-python",
   "name": "python",
   "nbconvert_exporter": "python",
   "pygments_lexer": "ipython3",
   "version": "3.7.9"
  }
 },
 "nbformat": 4,
 "nbformat_minor": 4
}
